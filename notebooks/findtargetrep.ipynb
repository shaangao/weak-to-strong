{
 "cells": [
  {
   "cell_type": "markdown",
   "metadata": {},
   "source": [
    "# set up"
   ]
  },
  {
   "cell_type": "code",
   "execution_count": 55,
   "metadata": {},
   "outputs": [],
   "source": [
    "import collections\n",
    "import numpy as np\n",
    "import matplotlib.pyplot as plt\n",
    "import seaborn as sns\n",
    "from tqdm import tqdm\n",
    "import pickle\n",
    "\n",
    "from scipy.optimize import minimize\n",
    "from sklearn.decomposition import PCA\n",
    "from sklearn.manifold import TSNE\n",
    "from sklearn.metrics.pairwise import cosine_similarity\n",
    "from sklearn.model_selection import train_test_split\n",
    "from sklearn.linear_model import LogisticRegression\n",
    "from sklearn.metrics import accuracy_score\n",
    "\n",
    "import torch\n",
    "from torch.utils.data import Dataset, DataLoader, SubsetRandomSampler, Subset\n",
    "import torch.nn.functional as F\n",
    "import torch.nn as nn\n",
    "import torch.optim as optim\n",
    "\n",
    "from transformers import AutoTokenizer, AutoModel\n",
    "from datasets import load_dataset\n",
    "from safetensors.torch import save_model, load_model, load_file, safe_open\n",
    "\n",
    "# TransformerWithHead inherets PreTrainedModel class: https://huggingface.co/docs/transformers/v4.40.1/en/main_classes/model#transformers.PreTrainedModel\n",
    "# takes a vector of token ids as input, instead of a dict of {'input_ids': [], 'attention_mask': []} as with the AutoModel class\n",
    "from weak_to_strong.model import TransformerWithHead"
   ]
  },
  {
   "cell_type": "code",
   "execution_count": 2,
   "metadata": {},
   "outputs": [],
   "source": [
    "import sys\n",
    "sys.path.insert(0, '../repmap')\n",
    "\n",
    "from util import *"
   ]
  },
  {
   "cell_type": "code",
   "execution_count": 3,
   "metadata": {},
   "outputs": [
    {
     "name": "stdout",
     "output_type": "stream",
     "text": [
      "available devices: 1\n",
      "current device: 0\n",
      "device name: NVIDIA A100 80GB PCIe\n"
     ]
    }
   ],
   "source": [
    "print(f'available devices: {torch.cuda.device_count()}')\n",
    "print(f'current device: {torch.cuda.current_device()}')\n",
    "print(f'device name: {torch.cuda.get_device_name()}')"
   ]
  },
  {
   "cell_type": "code",
   "execution_count": 4,
   "metadata": {},
   "outputs": [
    {
     "name": "stdout",
     "output_type": "stream",
     "text": [
      "using: cuda\n"
     ]
    }
   ],
   "source": [
    "# set device\n",
    "device = torch.device('cuda' if torch.cuda.is_available() else 'cpu')\n",
    "print(\"using: \" + str(device))"
   ]
  },
  {
   "cell_type": "markdown",
   "metadata": {},
   "source": [
    "# load models"
   ]
  },
  {
   "cell_type": "code",
   "execution_count": 4,
   "metadata": {},
   "outputs": [],
   "source": [
    "# # load state_dict alone\n",
    "\n",
    "# state_dict = load_file(\"../results/default/bs=32-dn=amaz_pola-e=2-ee=1000000-lp=0-l=xent-l=5e-05-ls=cosi_anne-mc=1024-ms=gpt2-nd=20000-ntd=10000-o=adam-s=0-twd=0/model.safetensors\")\n",
    "\n",
    "# state_dict['lm.transformer.h.1.attn.c_attn.weight']"
   ]
  },
  {
   "cell_type": "code",
   "execution_count": 5,
   "metadata": {},
   "outputs": [],
   "source": [
    "# create pre-ft model\n",
    "\n",
    "model_pre = TransformerWithHead.from_pretrained('gpt2').to(device)\n",
    "# model_pre"
   ]
  },
  {
   "cell_type": "code",
   "execution_count": 6,
   "metadata": {},
   "outputs": [],
   "source": [
    "# create post-ft model + load in state dict\n",
    "\n",
    "model_post = TransformerWithHead.from_pretrained('gpt2').to(device)\n",
    "\n",
    "load_model(model=model_post, filename=\"../results/default/bs=32-dn=amaz_pola-e=2-ee=1000000-lp=0-l=xent-l=5e-05-ls=cosi_anne-mc=1024-ms=gpt2-nd=20000-ntd=10000-o=adam-s=0-twd=0/model.safetensors\")\n",
    "\n",
    "model_post = model_post.to(device)\n",
    "# model_post"
   ]
  },
  {
   "cell_type": "code",
   "execution_count": 5,
   "metadata": {},
   "outputs": [],
   "source": [
    "# create pre-ft strong model\n",
    "\n",
    "model_strong_pre = TransformerWithHead.from_pretrained('gpt2-xl').to(device)\n",
    "# model_strong_pre"
   ]
  },
  {
   "cell_type": "code",
   "execution_count": 7,
   "metadata": {},
   "outputs": [],
   "source": [
    "# create post-ft strong model + load in state dict\n",
    "\n",
    "model_strong_post = TransformerWithHead.from_pretrained('gpt2-xl').to(device)\n",
    "\n",
    "load_model(model=model_strong_post, filename=\"../results/default/bs=32-dn=amaz_pola-e=2-ee=1000000-lp=0-l=xent-l=1e-05-ls=cosi_anne-mc=1024-ms=gpt2-xl-nd=20000-ntd=10000-o=adam-s=0-twd=0/model-00001-of-00002.safetensors\", strict=False)\n",
    "load_model(model=model_strong_post, filename=\"../results/default/bs=32-dn=amaz_pola-e=2-ee=1000000-lp=0-l=xent-l=1e-05-ls=cosi_anne-mc=1024-ms=gpt2-xl-nd=20000-ntd=10000-o=adam-s=0-twd=0/model-00002-of-00002.safetensors\", strict=False)\n",
    "\n",
    "model_strong_post = model_strong_post.to(device)\n",
    "# model_strong_post"
   ]
  },
  {
   "cell_type": "markdown",
   "metadata": {},
   "source": [
    "# extract internal reps"
   ]
  },
  {
   "cell_type": "markdown",
   "metadata": {},
   "source": [
    "## input processing"
   ]
  },
  {
   "cell_type": "code",
   "execution_count": 8,
   "metadata": {},
   "outputs": [],
   "source": [
    "# input processing\n",
    "\n",
    "def text2id(tokenizer, text):\n",
    "    \n",
    "    \"\"\" \n",
    "    tokenize input text and convert to input ids \n",
    "    - tokenizer: AutoTokenizer. pad_token required: tokenizer.pad_token = tokenizer.eos_token\n",
    "    - text: size (B,) = (batch size,). each element is an input text string, e.g., ['test blah', 'blah blah']\n",
    "    returns:\n",
    "    - sentences: dict {'input_ids': [], 'attention_mask': []}. each value has shape (B, L): (batch_size, num token in sentence).\n",
    "    \"\"\"\n",
    "\n",
    "    # tokens = tokenizer.tokenize(text)\n",
    "    # input_ids = tokenizer.convert_tokens_to_ids(tokens)\n",
    "    # input_ids = torch.tensor([input_ids]).to(device)\n",
    "    # return input_ids\n",
    "\n",
    "    # sentences is a dict of {'input_ids': [], 'attention_mask': []}\n",
    "    sentences = tokenizer(\n",
    "            text,\n",
    "            return_tensors='pt',  # pt = pytorch style tensor\n",
    "            padding=True\n",
    "        ).to(device)\n",
    "    \n",
    "    return sentences"
   ]
  },
  {
   "cell_type": "code",
   "execution_count": 8,
   "metadata": {},
   "outputs": [
    {
     "data": {
      "text/plain": [
       "{'input_ids': tensor([[ 1212,  2128,  2610,   373,  4950,     0,   632, 32281,   262,   264,\n",
       "         24156,   287,   534,  2000,   523,   880,   314,   561,   664,   296,\n",
       "           437,   340,   772,   284,   661,   508,  5465,   410,   312,    13,\n",
       "           983,  2647,     0,   314,   423,  2826,   262,   983,  8750,    78,\n",
       "          6372,   475,   503,   286,   477,   286,   262,  1830,   314,   423,\n",
       "          1683,  2826,   340,   468,   262,  1266,  2647,     0,   632, 12983,\n",
       "          1497,   422, 14897, 10586,   278,   290,  2753,   257, 34093,   372,\n",
       "          2239,   351, 48612, 32497,   290,  5848,   913, 28127,   292,    13,\n",
       "           632,   561, 14947,  2687,   508, 16609,   284,  6004,     0, 10563,\n",
       "            62,    61],\n",
       "        [ 2436,   993, 33367, 33367,  2436,   993,     0, 50256, 50256, 50256,\n",
       "         50256, 50256, 50256, 50256, 50256, 50256, 50256, 50256, 50256, 50256,\n",
       "         50256, 50256, 50256, 50256, 50256, 50256, 50256, 50256, 50256, 50256,\n",
       "         50256, 50256, 50256, 50256, 50256, 50256, 50256, 50256, 50256, 50256,\n",
       "         50256, 50256, 50256, 50256, 50256, 50256, 50256, 50256, 50256, 50256,\n",
       "         50256, 50256, 50256, 50256, 50256, 50256, 50256, 50256, 50256, 50256,\n",
       "         50256, 50256, 50256, 50256, 50256, 50256, 50256, 50256, 50256, 50256,\n",
       "         50256, 50256, 50256, 50256, 50256, 50256, 50256, 50256, 50256, 50256,\n",
       "         50256, 50256, 50256, 50256, 50256, 50256, 50256, 50256, 50256, 50256,\n",
       "         50256, 50256]], device='cuda:0'), 'attention_mask': tensor([[1, 1, 1, 1, 1, 1, 1, 1, 1, 1, 1, 1, 1, 1, 1, 1, 1, 1, 1, 1, 1, 1, 1, 1,\n",
       "         1, 1, 1, 1, 1, 1, 1, 1, 1, 1, 1, 1, 1, 1, 1, 1, 1, 1, 1, 1, 1, 1, 1, 1,\n",
       "         1, 1, 1, 1, 1, 1, 1, 1, 1, 1, 1, 1, 1, 1, 1, 1, 1, 1, 1, 1, 1, 1, 1, 1,\n",
       "         1, 1, 1, 1, 1, 1, 1, 1, 1, 1, 1, 1, 1, 1, 1, 1, 1, 1, 1, 1],\n",
       "        [1, 1, 1, 1, 1, 1, 1, 0, 0, 0, 0, 0, 0, 0, 0, 0, 0, 0, 0, 0, 0, 0, 0, 0,\n",
       "         0, 0, 0, 0, 0, 0, 0, 0, 0, 0, 0, 0, 0, 0, 0, 0, 0, 0, 0, 0, 0, 0, 0, 0,\n",
       "         0, 0, 0, 0, 0, 0, 0, 0, 0, 0, 0, 0, 0, 0, 0, 0, 0, 0, 0, 0, 0, 0, 0, 0,\n",
       "         0, 0, 0, 0, 0, 0, 0, 0, 0, 0, 0, 0, 0, 0, 0, 0, 0, 0, 0, 0]],\n",
       "       device='cuda:0')}"
      ]
     },
     "execution_count": 8,
     "metadata": {},
     "output_type": "execute_result"
    }
   ],
   "source": [
    "# sanity check\n",
    "\n",
    "tokenizer_gpt2 = AutoTokenizer.from_pretrained('gpt2')\n",
    "tokenizer_gpt2.pad_token = tokenizer_gpt2.eos_token\n",
    "\n",
    "text = [\n",
    "    \"This sound track was beautiful! It paints the senery in your mind so well I would recomend it even to people who hate vid. game music! I have played the game Chrono Cross but out of all of the games I have ever played it has the best music! It backs away from crude keyboarding and takes a fresher step with grate guitars and soulful orchestras. It would impress anyone who cares to listen! ^_^\", \n",
    "    \"blah blah blahblah!\"\n",
    "]\n",
    "\n",
    "\n",
    "ss = text2id(tokenizer_gpt2, text)\n",
    "ss"
   ]
  },
  {
   "cell_type": "code",
   "execution_count": 9,
   "metadata": {},
   "outputs": [
    {
     "data": {
      "text/plain": [
       "{'input_ids': tensor([[ 1212,  2128,  2610,   373,  4950,     0,   632, 32281,   262,   264,\n",
       "         24156,   287,   534,  2000,   523,   880,   314,   561,   664,   296,\n",
       "           437,   340,   772,   284,   661,   508,  5465,   410,   312,    13,\n",
       "           983,  2647,     0,   314,   423,  2826,   262,   983,  8750,    78,\n",
       "          6372,   475,   503,   286,   477,   286,   262,  1830,   314,   423,\n",
       "          1683,  2826,   340,   468,   262,  1266,  2647,     0,   632, 12983,\n",
       "          1497,   422, 14897, 10586,   278,   290,  2753,   257, 34093,   372,\n",
       "          2239,   351, 48612, 32497,   290,  5848,   913, 28127,   292,    13,\n",
       "           632,   561, 14947,  2687,   508, 16609,   284,  6004,     0, 10563,\n",
       "            62,    61],\n",
       "        [ 2436,   993, 33367, 33367,  2436,   993,     0, 50256, 50256, 50256,\n",
       "         50256, 50256, 50256, 50256, 50256, 50256, 50256, 50256, 50256, 50256,\n",
       "         50256, 50256, 50256, 50256, 50256, 50256, 50256, 50256, 50256, 50256,\n",
       "         50256, 50256, 50256, 50256, 50256, 50256, 50256, 50256, 50256, 50256,\n",
       "         50256, 50256, 50256, 50256, 50256, 50256, 50256, 50256, 50256, 50256,\n",
       "         50256, 50256, 50256, 50256, 50256, 50256, 50256, 50256, 50256, 50256,\n",
       "         50256, 50256, 50256, 50256, 50256, 50256, 50256, 50256, 50256, 50256,\n",
       "         50256, 50256, 50256, 50256, 50256, 50256, 50256, 50256, 50256, 50256,\n",
       "         50256, 50256, 50256, 50256, 50256, 50256, 50256, 50256, 50256, 50256,\n",
       "         50256, 50256]], device='cuda:0'), 'attention_mask': tensor([[1, 1, 1, 1, 1, 1, 1, 1, 1, 1, 1, 1, 1, 1, 1, 1, 1, 1, 1, 1, 1, 1, 1, 1,\n",
       "         1, 1, 1, 1, 1, 1, 1, 1, 1, 1, 1, 1, 1, 1, 1, 1, 1, 1, 1, 1, 1, 1, 1, 1,\n",
       "         1, 1, 1, 1, 1, 1, 1, 1, 1, 1, 1, 1, 1, 1, 1, 1, 1, 1, 1, 1, 1, 1, 1, 1,\n",
       "         1, 1, 1, 1, 1, 1, 1, 1, 1, 1, 1, 1, 1, 1, 1, 1, 1, 1, 1, 1],\n",
       "        [1, 1, 1, 1, 1, 1, 1, 0, 0, 0, 0, 0, 0, 0, 0, 0, 0, 0, 0, 0, 0, 0, 0, 0,\n",
       "         0, 0, 0, 0, 0, 0, 0, 0, 0, 0, 0, 0, 0, 0, 0, 0, 0, 0, 0, 0, 0, 0, 0, 0,\n",
       "         0, 0, 0, 0, 0, 0, 0, 0, 0, 0, 0, 0, 0, 0, 0, 0, 0, 0, 0, 0, 0, 0, 0, 0,\n",
       "         0, 0, 0, 0, 0, 0, 0, 0, 0, 0, 0, 0, 0, 0, 0, 0, 0, 0, 0, 0]],\n",
       "       device='cuda:0')}"
      ]
     },
     "execution_count": 9,
     "metadata": {},
     "output_type": "execute_result"
    }
   ],
   "source": [
    "# sanity check\n",
    "\n",
    "tokenizer_gpt2xl = AutoTokenizer.from_pretrained('gpt2-xl')\n",
    "tokenizer_gpt2xl.pad_token = tokenizer_gpt2xl.eos_token\n",
    "\n",
    "text = [\n",
    "    \"This sound track was beautiful! It paints the senery in your mind so well I would recomend it even to people who hate vid. game music! I have played the game Chrono Cross but out of all of the games I have ever played it has the best music! It backs away from crude keyboarding and takes a fresher step with grate guitars and soulful orchestras. It would impress anyone who cares to listen! ^_^\", \n",
    "    \"blah blah blahblah!\"\n",
    "]\n",
    "\n",
    "\n",
    "ss = text2id(tokenizer_gpt2xl, text)\n",
    "ss"
   ]
  },
  {
   "cell_type": "markdown",
   "metadata": {},
   "source": [
    "## rep extraction"
   ]
  },
  {
   "cell_type": "code",
   "execution_count": 10,
   "metadata": {},
   "outputs": [],
   "source": [
    "# hook: https://web.stanford.edu/~nanbhas/blog/forward-hooks-pytorch/#method-3-attach-a-hook\n",
    "# register_forward_hook: https://pytorch.org/docs/stable/generated/torch.nn.Module.html#torch.nn.Module.register_forward_hook\n",
    "\n",
    "\n",
    "# helper func\n",
    "def get_activation(module_name, activations):\n",
    "\n",
    "    \"\"\"\n",
    "    helper function for creating forward hooks.\n",
    "    - module_name: name of module to register the hook onto & extract reps from.\n",
    "    - activations: dict variable for the created hook to store extracted reps.\n",
    "    \"\"\"\n",
    "\n",
    "    def hook(model, input, output):\n",
    "        activations[module_name] = output[0].detach().to(device)  # 'output' is a tuple\n",
    "    \n",
    "    return hook\n",
    "\n",
    "\n",
    "def extract_hidden_states(model, input_ids):\n",
    "\n",
    "    \"\"\"\n",
    "    extract model internal reps with given inputs.\n",
    "    - model: TransformerWithHead (inherets PreTrainedModel).\n",
    "    - input_ids: shape (B, L): (batch_size, num token in sentence). use sentences['input_ids'] from text2id().\n",
    "    returns:\n",
    "    - activations: dict {layer name: activation}. each layer's activation has shape (B, L, D): (batch_size, num token in sentence, model dim)\n",
    "    \"\"\"\n",
    "\n",
    "    # stores extracted model reps\n",
    "    activations = {}  \n",
    "    \n",
    "    # register hooks on layers of choice\n",
    "    hooks = []\n",
    "    for name, module in model.transformer.named_modules():\n",
    "\n",
    "        # set modules to register hooks on\n",
    "        if isinstance(module, torch.nn.modules.Module):\n",
    "            h = module.register_forward_hook(get_activation(name, activations))\n",
    "            hooks.append(h)\n",
    "    \n",
    "    # pass input_ids through model for auto-extraction through hooks\n",
    "    input_ids = input_ids.to(device)\n",
    "    model.eval()\n",
    "    with torch.no_grad():\n",
    "        _ = model(input_ids)\n",
    "\n",
    "    # detach hooks after use\n",
    "    for h in hooks:\n",
    "        h.remove()\n",
    "\n",
    "    return activations"
   ]
  },
  {
   "cell_type": "code",
   "execution_count": 33,
   "metadata": {},
   "outputs": [
    {
     "data": {
      "text/plain": [
       "tensor([[0., 0.],\n",
       "        [0., 0.]], device='cuda:0', grad_fn=<MmBackward0>)"
      ]
     },
     "execution_count": 33,
     "metadata": {},
     "output_type": "execute_result"
    }
   ],
   "source": [
    "# sanity check\n",
    "model_strong_pre(ss['input_ids'])"
   ]
  },
  {
   "cell_type": "code",
   "execution_count": 13,
   "metadata": {},
   "outputs": [
    {
     "data": {
      "text/plain": [
       "torch.Size([2, 92, 1600])"
      ]
     },
     "execution_count": 13,
     "metadata": {},
     "output_type": "execute_result"
    }
   ],
   "source": [
    "# sanity check\n",
    "activations = extract_hidden_states(model=model_strong_post, input_ids=ss['input_ids'])  # dict: {layer name: activation}\n",
    "activations['h.11'].shape"
   ]
  },
  {
   "cell_type": "markdown",
   "metadata": {},
   "source": [
    "## dataset & dataloader"
   ]
  },
  {
   "cell_type": "code",
   "execution_count": 16,
   "metadata": {},
   "outputs": [
    {
     "data": {
      "text/plain": [
       "DatasetDict({\n",
       "    train: Dataset({\n",
       "        features: ['label', 'title', 'content'],\n",
       "        num_rows: 3600000\n",
       "    })\n",
       "    test: Dataset({\n",
       "        features: ['label', 'title', 'content'],\n",
       "        num_rows: 400000\n",
       "    })\n",
       "})"
      ]
     },
     "execution_count": 16,
     "metadata": {},
     "output_type": "execute_result"
    }
   ],
   "source": [
    "# load huggingface datasets (train+test)\n",
    "\n",
    "datasets = load_dataset(\"amazon_polarity\").with_format(\"torch\", device=device)\n",
    "# datasets = datasets.shuffle(seed=42, buffer_size=10_000)  # shuffles the shards order + uses a shuffle buffer\n",
    "datasets"
   ]
  },
  {
   "cell_type": "code",
   "execution_count": 19,
   "metadata": {},
   "outputs": [
    {
     "name": "stdout",
     "output_type": "stream",
     "text": [
      "{'train': 1000, 'test': 400000}\n"
     ]
    }
   ],
   "source": [
    "# create dataloaders from datasets\n",
    "# use huggingface datasets with dataloader: https://huggingface.co/docs/datasets/en/loading\n",
    "\n",
    "# set how many samples to use for train and test\n",
    "N = {'train': 1000, 'test': len(datasets['test'])} \n",
    "print(N)\n",
    "\n",
    "dataloaders = collections.defaultdict()\n",
    "for split in datasets.keys():\n",
    "    dataloaders[split] = DataLoader(\n",
    "        Subset(datasets[split], list(range(N[split]))),\n",
    "        # datasets[split].with_format(\"torch\"),\n",
    "        batch_size=10, \n",
    "        # sampler=SubsetRandomSampler(list(range(N[split]))),\n",
    "        shuffle=False\n",
    "    )"
   ]
  },
  {
   "cell_type": "code",
   "execution_count": 20,
   "metadata": {},
   "outputs": [
    {
     "data": {
      "text/plain": [
       "{'label': tensor([1, 1, 1, 1, 1, 1, 0, 1, 1, 1], device='cuda:0'),\n",
       " 'title': ['Stuning even for the non-gamer',\n",
       "  'The best soundtrack ever to anything.',\n",
       "  'Amazing!',\n",
       "  'Excellent Soundtrack',\n",
       "  'Remember, Pull Your Jaw Off The Floor After Hearing it',\n",
       "  'an absolute masterpiece',\n",
       "  'Buyer beware',\n",
       "  'Glorious story',\n",
       "  'A FIVE STAR BOOK',\n",
       "  'Whispers of the Wicked Saints'],\n",
       " 'content': ['This sound track was beautiful! It paints the senery in your mind so well I would recomend it even to people who hate vid. game music! I have played the game Chrono Cross but out of all of the games I have ever played it has the best music! It backs away from crude keyboarding and takes a fresher step with grate guitars and soulful orchestras. It would impress anyone who cares to listen! ^_^',\n",
       "  \"I'm reading a lot of reviews saying that this is the best 'game soundtrack' and I figured that I'd write a review to disagree a bit. This in my opinino is Yasunori Mitsuda's ultimate masterpiece. The music is timeless and I'm been listening to it for years now and its beauty simply refuses to fade.The price tag on this is pretty staggering I must say, but if you are going to buy any cd for this much money, this is the only one that I feel would be worth every penny.\",\n",
       "  'This soundtrack is my favorite music of all time, hands down. The intense sadness of \"Prisoners of Fate\" (which means all the more if you\\'ve played the game) and the hope in \"A Distant Promise\" and \"Girl who Stole the Star\" have been an important inspiration to me personally throughout my teen years. The higher energy tracks like \"Chrono Cross ~ Time\\'s Scar~\", \"Time of the Dreamwatch\", and \"Chronomantique\" (indefinably remeniscent of Chrono Trigger) are all absolutely superb as well.This soundtrack is amazing music, probably the best of this composer\\'s work (I haven\\'t heard the Xenogears soundtrack, so I can\\'t say for sure), and even if you\\'ve never played the game, it would be worth twice the price to buy it.I wish I could give it 6 stars.',\n",
       "  \"I truly like this soundtrack and I enjoy video game music. I have played this game and most of the music on here I enjoy and it's truly relaxing and peaceful.On disk one. my favorites are Scars Of Time, Between Life and Death, Forest Of Illusion, Fortress of Ancient Dragons, Lost Fragment, and Drowned Valley.Disk Two: The Draggons, Galdorb - Home, Chronomantique, Prisoners of Fate, Gale, and my girlfriend likes ZelbessDisk Three: The best of the three. Garden Of God, Chronopolis, Fates, Jellyfish sea, Burning Orphange, Dragon's Prayer, Tower Of Stars, Dragon God, and Radical Dreamers - Unstealable Jewel.Overall, this is a excellent soundtrack and should be brought by those that like video game music.Xander Cross\",\n",
       "  \"If you've played the game, you know how divine the music is! Every single song tells a story of the game, it's that good! The greatest songs are without a doubt, Chrono Cross: Time's Scar, Magical Dreamers: The Wind, The Stars, and the Sea and Radical Dreamers: Unstolen Jewel. (Translation varies) This music is perfect if you ask me, the best it can be. Yasunori Mitsuda just poured his heart on and wrote it down on paper.\",\n",
       "  \"I am quite sure any of you actually taking the time to read this have played the game at least once, and heard at least a few of the tracks here. And whether you were aware of it or not, Mitsuda's music contributed greatly to the mood of every single minute of the whole game.Composed of 3 CDs and quite a few songs (I haven't an exact count), all of which are heart-rendering and impressively remarkable, this soundtrack is one I assure you you will not forget. It has everything for every listener -- from fast-paced and energetic (Dancing the Tokage or Termina Home), to slower and more haunting (Dragon God), to purely beautifully composed (Time's Scar), to even some fantastic vocals (Radical Dreamers).This is one of the best videogame soundtracks out there, and surely Mitsuda's best ever. ^_^\",\n",
       "  'This is a self-published book, and if you want to know why--read a few paragraphs! Those 5 star reviews must have been written by Ms. Haddon\\'s family and friends--or perhaps, by herself! I can\\'t imagine anyone reading the whole thing--I spent an evening with the book and a friend and we were in hysterics reading bits and pieces of it to one another. It is most definitely bad enough to be entered into some kind of a \"worst book\" contest. I can\\'t believe Amazon even sells this kind of thing. Maybe I can offer them my 8th grade term paper on \"To Kill a Mockingbird\"--a book I am quite sure Ms. Haddon never heard of. Anyway, unless you are in a mood to send a book to someone as a joke---stay far, far away from this one!',\n",
       "  'I loved Whisper of the wicked saints. The story was amazing and I was pleasantly surprised at the changes in the book. I am not normaly someone who is into romance novels, but the world was raving about this book and so I bought it. I loved it !! This is a brilliant story because it is so true. This book was so wonderful that I have told all of my friends to read it. It is not a typical romance, it is so much more. Not reading this book is a crime, becuase you are missing out on a heart warming story.',\n",
       "  \"I just finished reading Whisper of the Wicked saints. I fell in love with the caracters. I expected an average romance read, but instead I found one of my favorite books of all time. Just when I thought I could predict the outcome I was shocked ! The writting was so descriptive that my heart broke when Julia's did and I felt as if I was there with them instead of just a distant reader. If you are a lover of romance novels then this is a must read. Don't let the cover fool you this book is spectacular!\",\n",
       "  'This was a easy to read book that made me want to keep reading on and on, not easy to put down.It left me wanting to read the follow on, which I hope is coming soon. I used to read a lot but have gotten away from it. This book made me want to read again. Very enjoyable.']}"
      ]
     },
     "execution_count": 20,
     "metadata": {},
     "output_type": "execute_result"
    }
   ],
   "source": [
    "# sanity check\n",
    "\n",
    "next(iter(dataloaders['train']))\n",
    "# next(iter(dataloaders['test']))"
   ]
  },
  {
   "cell_type": "markdown",
   "metadata": {},
   "source": [
    "## main process"
   ]
  },
  {
   "cell_type": "code",
   "execution_count": 21,
   "metadata": {},
   "outputs": [],
   "source": [
    "# helper func for pooling\n",
    "def pooling(activations:dict, layer_name:str, attention_mask:torch.Tensor, method:str):\n",
    "\n",
    "    # get unpooled activation from target layer\n",
    "    activation_unpooled = activations[layer_name]  # (B, L, D): (batch_size, num token in sentence, model dim)\n",
    "    \n",
    "\n",
    "    # get pooled activation across tokens for each sentence\n",
    "    if method == 'first':\n",
    "        activation_pooled = activation_unpooled[:, 0, :]   # (B, D)\n",
    "\n",
    "    elif method == 'last':\n",
    "        activation_pooled = activation_unpooled[range(activation_unpooled.shape[0]), attention_mask.sum(dim=1) - 1, :]   # (B, D)\n",
    "\n",
    "    elif method == 'mean':\n",
    "        # mask padding tokens (where attention_mask is 0) with nan\n",
    "        activation_unpooled_masked = activation_unpooled.masked_fill(\n",
    "            attention_mask.unsqueeze(-1)==0,\n",
    "            float('nan')\n",
    "        )\n",
    "        # max-pooling across tokens (L dimension) in each sentence\n",
    "        activation_pooled = activation_unpooled_masked.nanmean(dim=1)   # (B, D)\n",
    "\n",
    "    elif method == 'max':\n",
    "        # mask padding tokens (where attention_mask is 0) with -inf\n",
    "        activation_unpooled_masked = activation_unpooled.masked_fill(\n",
    "            attention_mask.unsqueeze(-1)==0,\n",
    "            float('-inf')\n",
    "        )\n",
    "        # max-pooling across tokens (L dimension) in each sentence\n",
    "        activation_pooled, _ = activation_unpooled_masked.max(dim=1)   # (B, D)\n",
    "\n",
    "    return activation_pooled  # (B, D): (batch_size, model dim)"
   ]
  },
  {
   "cell_type": "code",
   "execution_count": 22,
   "metadata": {},
   "outputs": [],
   "source": [
    "# main extration process: get reps from chosen layers, pooling, append to be saved\n",
    "\n",
    "def text2rep(dataloader, tokenizer, model, layer_names:list):\n",
    "\n",
    "    \"\"\"\n",
    "    layer_names: a list of layers to extract activation from. e.g., ['h.10', 'h.11']\n",
    "    \"\"\"\n",
    "\n",
    "    # iter through mini-batches in dataloader once to extract activation for all obs\n",
    "    activations_all = collections.defaultdict(torch.Tensor)\n",
    "    for batch in tqdm(dataloader):\n",
    "        \n",
    "        # convert text to input_ids + attention_mask\n",
    "        sentences = text2id(tokenizer, batch['content'])  # dict: {input_ids: token ids, attention_mask: has token or padding}\n",
    "\n",
    "        # extract activation from each layer\n",
    "        activations = extract_hidden_states(\n",
    "            model=model, \n",
    "            input_ids=sentences['input_ids']\n",
    "        )  # dict: {layer name: activation}\n",
    "\n",
    "        # keep activations from chosen layers + pooling\n",
    "        for layer_name in layer_names:\n",
    "\n",
    "            # get pooled activation\n",
    "            activation_pooled = pooling(\n",
    "                activations=activations, \n",
    "                layer_name=layer_name, \n",
    "                attention_mask=sentences['attention_mask'], \n",
    "                method='mean'\n",
    "            )  # (B, D): (batch_size, model dim)\n",
    "            \n",
    "            # append\n",
    "            activations_all[layer_name] = torch.cat(\n",
    "                (activations_all[layer_name].to(device), activation_pooled), \n",
    "                dim=0\n",
    "            )\n",
    "\n",
    "    return activations_all"
   ]
  },
  {
   "cell_type": "code",
   "execution_count": 62,
   "metadata": {},
   "outputs": [
    {
     "name": "stderr",
     "output_type": "stream",
     "text": [
      "100%|██████████| 100/100 [00:03<00:00, 30.42it/s]"
     ]
    },
    {
     "name": "stdout",
     "output_type": "stream",
     "text": [
      "torch.Size([1000, 768])\n",
      "tensor([[ 4.8404,  3.2834, -1.9144,  ..., -0.3921, -4.5961, -2.0894],\n",
      "        [-3.3382,  1.8766, -1.7150,  ..., -2.1792,  0.0200, -0.2466],\n",
      "        [-0.1736,  7.8676,  1.4048,  ..., -2.2731,  3.2617,  0.6957],\n",
      "        ...,\n",
      "        [ 3.0989,  7.2682,  1.5880,  ...,  0.6372,  1.3751,  2.3761],\n",
      "        [ 0.2162,  7.8918, -2.6932,  ..., -1.6321,  2.0773,  1.9474],\n",
      "        [ 0.6968,  7.0811,  2.0809,  ..., -2.0227,  2.1725,  1.4960]],\n",
      "       device='cuda:0')\n",
      "torch.Size([1000, 768])\n",
      "tensor([[ 6.2053e+00,  7.5723e+00, -8.6395e+00,  ..., -3.7627e+00,\n",
      "         -4.6410e+00, -8.0845e+00],\n",
      "        [-5.0004e+00,  3.2120e+00, -2.7914e+00,  ...,  1.4626e+00,\n",
      "          1.3013e+00, -2.1181e+00],\n",
      "        [-1.2901e+00,  1.2382e+01,  5.4619e-01,  ..., -5.8366e-02,\n",
      "          6.0298e+00, -1.5424e+00],\n",
      "        ...,\n",
      "        [ 2.8257e+00,  1.1173e+01, -1.1255e-02,  ...,  6.9910e+00,\n",
      "          5.0105e+00, -6.7164e-02],\n",
      "        [ 1.7586e+00,  1.0032e+01, -8.5106e+00,  ...,  1.5049e+00,\n",
      "          5.2959e+00, -1.7862e+00],\n",
      "        [-1.9880e+00,  1.2205e+01,  1.8232e+00,  ...,  2.7674e+00,\n",
      "          6.2006e+00, -6.0990e-01]], device='cuda:0')\n"
     ]
    },
    {
     "name": "stderr",
     "output_type": "stream",
     "text": [
      "\n"
     ]
    }
   ],
   "source": [
    "# example\n",
    "\n",
    "gpt2_post = text2rep(\n",
    "    dataloader=dataloaders['train'], \n",
    "    tokenizer=tokenizer_gpt2, \n",
    "    model=model_post, \n",
    "    layer_names=['h.10', 'h.11']\n",
    ")\n",
    "\n",
    "print(gpt2_post['h.10'].shape)\n",
    "print(gpt2_post['h.10'])\n",
    "print(gpt2_post['h.11'].shape)\n",
    "print(gpt2_post['h.11'])"
   ]
  },
  {
   "cell_type": "code",
   "execution_count": 64,
   "metadata": {},
   "outputs": [
    {
     "name": "stderr",
     "output_type": "stream",
     "text": [
      "100%|██████████| 100/100 [00:03<00:00, 28.66it/s]"
     ]
    },
    {
     "name": "stdout",
     "output_type": "stream",
     "text": [
      "torch.Size([1000, 768])\n",
      "tensor([[ 0.7964, -1.4488, -2.6808,  ...,  3.4165,  0.9731, -2.0792],\n",
      "        [ 1.8860, -0.3864, -2.4782,  ..., -0.5510,  0.1220, -0.9070],\n",
      "        [ 0.7193,  0.7334, -4.1835,  ...,  1.1297,  2.5225,  1.6981],\n",
      "        ...,\n",
      "        [ 1.2478,  0.1239, -1.8912,  ..., -0.9093,  0.4406, -1.1400],\n",
      "        [ 0.5011, -0.7305,  0.0511,  ..., -2.8094,  3.0355, -2.0916],\n",
      "        [ 2.0093, -1.2039, -3.6110,  ..., -0.8403,  2.1377,  0.0653]],\n",
      "       device='cuda:0')\n",
      "torch.Size([1000, 768])\n",
      "tensor([[ 1.8162, -1.5948, -3.9047,  ...,  4.2885,  0.3454, -1.6128],\n",
      "        [ 2.3710, -0.4046, -4.0925,  ..., -0.2042, -0.1911, -1.6371],\n",
      "        [ 0.7923,  1.7717, -4.5742,  ...,  1.6722,  2.8459,  0.5418],\n",
      "        ...,\n",
      "        [ 1.8438, -0.0164, -2.0520,  ..., -0.3600,  0.7284, -1.4890],\n",
      "        [ 0.1838, -0.0427,  0.3320,  ..., -3.4965,  4.0038, -2.7074],\n",
      "        [ 1.9942, -0.8328, -3.9446,  ...,  0.8062,  3.1185, -1.6922]],\n",
      "       device='cuda:0')\n"
     ]
    },
    {
     "name": "stderr",
     "output_type": "stream",
     "text": [
      "\n"
     ]
    }
   ],
   "source": [
    "gpt2_pre = text2rep(\n",
    "    dataloader=dataloaders['train'], \n",
    "    tokenizer=tokenizer_gpt2, \n",
    "    model=model_pre, \n",
    "    layer_names=['h.10', 'h.11']\n",
    ")\n",
    "\n",
    "print(gpt2_pre['h.10'].shape)\n",
    "print(gpt2_pre['h.10'])\n",
    "print(gpt2_pre['h.11'].shape)\n",
    "print(gpt2_pre['h.11'])"
   ]
  },
  {
   "cell_type": "code",
   "execution_count": 23,
   "metadata": {},
   "outputs": [
    {
     "name": "stderr",
     "output_type": "stream",
     "text": [
      "100%|██████████| 100/100 [00:39<00:00,  2.53it/s]"
     ]
    },
    {
     "name": "stdout",
     "output_type": "stream",
     "text": [
      "torch.Size([1000, 1600])\n",
      "tensor([[-0.8024, -0.5057,  0.3613,  ..., -0.1777, -0.4208, -0.8483],\n",
      "        [-0.7440, -1.0171,  0.3890,  ..., -0.3785, -0.5659, -1.1690],\n",
      "        [-1.0563, -0.6489,  0.1251,  ..., -0.3856, -0.2560, -0.4969],\n",
      "        ...,\n",
      "        [-0.3937, -0.8671, -0.2776,  ..., -0.3974, -0.3338, -1.1325],\n",
      "        [-0.4944, -0.3029,  0.2253,  ..., -0.2147, -0.6564, -0.7448],\n",
      "        [-0.6177, -0.2051,  0.3568,  ..., -0.0432, -0.3263, -0.4903]],\n",
      "       device='cuda:0')\n",
      "torch.Size([1000, 1600])\n",
      "tensor([[-0.8075, -0.5135,  0.4093,  ..., -0.1748, -0.4125, -0.8853],\n",
      "        [-0.8233, -1.1235,  0.2957,  ..., -0.3343, -0.5583, -1.2670],\n",
      "        [-1.1014, -0.6056,  0.1215,  ..., -0.3544, -0.2509, -0.4939],\n",
      "        ...,\n",
      "        [-0.4893, -0.9857, -0.2986,  ..., -0.3359, -0.3937, -1.3026],\n",
      "        [-0.5869, -0.2662,  0.3563,  ..., -0.2949, -0.7308, -0.9189],\n",
      "        [-0.6153, -0.1578,  0.3770,  ..., -0.0882, -0.3082, -0.5232]],\n",
      "       device='cuda:0')\n"
     ]
    },
    {
     "name": "stderr",
     "output_type": "stream",
     "text": [
      "\n"
     ]
    }
   ],
   "source": [
    "# example\n",
    "\n",
    "gpt2xl_post = text2rep(\n",
    "    dataloader=dataloaders['train'], \n",
    "    tokenizer=tokenizer_gpt2xl, \n",
    "    model=model_strong_post, \n",
    "    layer_names=['h.10', 'h.11']\n",
    ")\n",
    "\n",
    "print(gpt2xl_post['h.10'].shape)\n",
    "print(gpt2xl_post['h.10'])\n",
    "print(gpt2xl_post['h.11'].shape)\n",
    "print(gpt2xl_post['h.11'])"
   ]
  },
  {
   "cell_type": "code",
   "execution_count": 29,
   "metadata": {},
   "outputs": [
    {
     "name": "stderr",
     "output_type": "stream",
     "text": [
      "100%|██████████| 100/100 [00:39<00:00,  2.54it/s]"
     ]
    },
    {
     "name": "stdout",
     "output_type": "stream",
     "text": [
      "torch.Size([1000, 1600])\n",
      "tensor([[-1.0794, -0.4727,  0.1244,  ..., -0.2131, -0.4812, -0.6352],\n",
      "        [-1.0592, -1.0818,  0.1694,  ..., -0.3424, -0.6112, -1.0326],\n",
      "        [-1.1896, -0.5917, -0.0984,  ..., -0.4256, -0.2763, -0.3416],\n",
      "        ...,\n",
      "        [-0.6294, -1.0298, -0.4120,  ..., -0.3650, -0.3353, -1.0919],\n",
      "        [-0.8331, -0.2928,  0.0489,  ..., -0.3569, -0.6342, -0.6189],\n",
      "        [-0.8783, -0.1870,  0.1416,  ..., -0.1247, -0.3869, -0.4302]],\n",
      "       device='cuda:0')\n",
      "torch.Size([1000, 1600])\n",
      "tensor([[-1.1029, -0.4887,  0.1348,  ..., -0.2437, -0.4804, -0.6456],\n",
      "        [-1.1359, -1.1447,  0.0276,  ..., -0.3153, -0.6042, -1.1109],\n",
      "        [-1.2588, -0.5580, -0.1243,  ..., -0.4380, -0.2758, -0.3653],\n",
      "        ...,\n",
      "        [-0.7333, -1.1132, -0.4384,  ..., -0.3302, -0.3686, -1.2238],\n",
      "        [-0.9096, -0.2417,  0.1045,  ..., -0.4676, -0.6845, -0.7316],\n",
      "        [-0.8917, -0.1267,  0.1321,  ..., -0.1936, -0.3672, -0.4418]],\n",
      "       device='cuda:0')\n"
     ]
    },
    {
     "name": "stderr",
     "output_type": "stream",
     "text": [
      "\n"
     ]
    }
   ],
   "source": [
    "gpt2xl_pre = text2rep(\n",
    "    dataloader=dataloaders['train'], \n",
    "    tokenizer=tokenizer_gpt2xl, \n",
    "    model=model_strong_pre, \n",
    "    layer_names=['h.10', 'h.11']\n",
    ")\n",
    "\n",
    "print(gpt2xl_pre['h.10'].shape)\n",
    "print(gpt2xl_pre['h.10'])\n",
    "print(gpt2xl_pre['h.11'].shape)\n",
    "print(gpt2xl_pre['h.11'])"
   ]
  },
  {
   "cell_type": "markdown",
   "metadata": {},
   "source": [
    "## save"
   ]
  },
  {
   "cell_type": "code",
   "execution_count": null,
   "metadata": {},
   "outputs": [],
   "source": [
    "# db = {\n",
    "#     'rep': gpt2xl_post,\n",
    "#     'label': datasets['train']['label'][:N['train']]\n",
    "# }\n",
    "\n",
    "# with open(f\"../results/reps/gpt2xl_ft=amazpola-gt_N={N['train']}.pickle\", 'wb') as f:\n",
    "#     pickle.dump(db, f)"
   ]
  },
  {
   "cell_type": "code",
   "execution_count": 24,
   "metadata": {},
   "outputs": [
    {
     "data": {
      "text/plain": [
       "{'rep': defaultdict(torch.Tensor,\n",
       "             {'h.10': tensor([[-0.8024, -0.5057,  0.3613,  ..., -0.1777, -0.4208, -0.8483],\n",
       "                      [-0.7440, -1.0171,  0.3890,  ..., -0.3785, -0.5659, -1.1690],\n",
       "                      [-1.0563, -0.6489,  0.1251,  ..., -0.3856, -0.2560, -0.4969],\n",
       "                      ...,\n",
       "                      [-0.8785, -0.1644,  0.0956,  ..., -0.5106, -0.4677, -0.6248],\n",
       "                      [ 0.2569, -1.4939, -0.6860,  ..., -0.6782, -0.4574, -1.5489],\n",
       "                      [-0.3463, -0.6431, -0.2498,  ..., -0.3066, -0.5105, -1.0637]],\n",
       "                     device='cuda:0'),\n",
       "              'h.11': tensor([[-0.8075, -0.5135,  0.4093,  ..., -0.1748, -0.4125, -0.8853],\n",
       "                      [-0.8233, -1.1235,  0.2957,  ..., -0.3343, -0.5583, -1.2670],\n",
       "                      [-1.1014, -0.6056,  0.1215,  ..., -0.3544, -0.2509, -0.4939],\n",
       "                      ...,\n",
       "                      [-1.1008, -0.1599,  0.0781,  ..., -0.4730, -0.5298, -0.8010],\n",
       "                      [ 0.0559, -1.6636, -0.8198,  ..., -0.6284, -0.5748, -1.5935],\n",
       "                      [-0.4818, -0.6039, -0.2917,  ..., -0.2220, -0.5531, -1.0583]],\n",
       "                     device='cuda:0')}),\n",
       " 'label': tensor([1, 1, 1,  ..., 0, 0, 1], device='cuda:0')}"
      ]
     },
     "execution_count": 24,
     "metadata": {},
     "output_type": "execute_result"
    }
   ],
   "source": [
    "with (open(\"../results/reps/gpt2xl_ft=amazpola-gt_N=10000.pickle\", \"rb\")) as f:\n",
    "    db = pickle.load(f)\n",
    "\n",
    "db"
   ]
  },
  {
   "cell_type": "markdown",
   "metadata": {},
   "source": [
    "# exploratory visuals"
   ]
  },
  {
   "cell_type": "markdown",
   "metadata": {},
   "source": [
    "## cross-time"
   ]
  },
  {
   "cell_type": "code",
   "execution_count": 30,
   "metadata": {},
   "outputs": [],
   "source": [
    "def plot_activation_changes(activation1, activation2, method='PCA', components=2, title=''):\n",
    "\n",
    "    \"\"\"\n",
    "    Visualize changes in activations using PCA or t-SNE.\n",
    "\n",
    "    Parameters:\n",
    "    activation1/activation2: Activations to be compared. shape (N, D) = (N obs, model dim)\n",
    "    method (str): 'PCA' or 't-SNE', the method to use for dimensionality reduction.\n",
    "    components (int): Number of components for the dimensionality reduction.\n",
    "    \"\"\"\n",
    "\n",
    "    # copy tensors from cuda to host memory\n",
    "    activation1, activation2 = activation1.cpu(), activation1.cpu()\n",
    "    \n",
    "    # Concatenate data from both states for unified transformation in PCA/t-SNE\n",
    "    data_combined = np.concatenate([activation1, activation2], axis=0)\n",
    "    \n",
    "    if method == 'PCA':\n",
    "        reducer = PCA(n_components=components)\n",
    "    elif method == 't-SNE':\n",
    "        reducer = TSNE(n_components=components, learning_rate='auto', init='random')\n",
    "    else:\n",
    "        raise ValueError(\"Unsupported dimensionality reduction method\")\n",
    "    \n",
    "    # Fit and transform the data\n",
    "    reduced_data = reducer.fit_transform(data_combined)\n",
    "    \n",
    "    # Split the transformed data\n",
    "    reduced_data_pre = reduced_data[:activation1.shape[0]]\n",
    "    reduced_data_post = reduced_data[activation1.shape[0]:]\n",
    "\n",
    "    # Plotting\n",
    "    plt.figure(figsize=(10, 6))\n",
    "    plt.scatter(reduced_data_pre[:, 0], reduced_data_pre[:, 1], c='blue', alpha=0.2, label='Pre-Finetuning')\n",
    "    plt.scatter(reduced_data_post[:, 0], reduced_data_post[:, 1], c='red', alpha=0.2, label='Post-Finetuning')\n",
    "    plt.title(f'{title} - {method} Visualization')\n",
    "    plt.xlabel(f'{method} Component 1')\n",
    "    plt.ylabel(f'{method} Component 2')\n",
    "    plt.legend()\n",
    "    plt.show()"
   ]
  },
  {
   "cell_type": "code",
   "execution_count": 31,
   "metadata": {},
   "outputs": [
    {
     "name": "stderr",
     "output_type": "stream",
     "text": [
      "huggingface/tokenizers: The current process just got forked, after parallelism has already been used. Disabling parallelism to avoid deadlocks...\n",
      "To disable this warning, you can either:\n",
      "\t- Avoid using `tokenizers` before the fork if possible\n",
      "\t- Explicitly set the environment variable TOKENIZERS_PARALLELISM=(true | false)\n"
     ]
    },
    {
     "data": {
      "image/png": "[encoded data removed]",
      "text/plain": [
       "<Figure size 1000x600 with 1 Axes>"
      ]
     },
     "metadata": {},
     "output_type": "display_data"
    }
   ],
   "source": [
    "plot_activation_changes(activation1=gpt2xl_pre['h.11'], activation2=gpt2xl_post['h.11'], method='t-SNE', title='GPT2-XL h.11')"
   ]
  },
  {
   "cell_type": "code",
   "execution_count": 32,
   "metadata": {},
   "outputs": [
    {
     "data": {
      "image/png": "[encoded data removed]",
      "text/plain": [
       "<Figure size 1000x600 with 1 Axes>"
      ]
     },
     "metadata": {},
     "output_type": "display_data"
    }
   ],
   "source": [
    "plot_activation_changes(activation1=gpt2xl_pre['h.10'], activation2=gpt2xl_post['h.10'], method='t-SNE', title='GPT2-XL h.10')"
   ]
  },
  {
   "cell_type": "markdown",
   "metadata": {},
   "source": [
    "## cross-model"
   ]
  },
  {
   "cell_type": "code",
   "execution_count": null,
   "metadata": {},
   "outputs": [],
   "source": [
    "# TODO\n"
   ]
  },
  {
   "cell_type": "code",
   "execution_count": null,
   "metadata": {},
   "outputs": [],
   "source": []
  },
  {
   "cell_type": "markdown",
   "metadata": {},
   "source": [
    "# find transformation & infer task rep"
   ]
  },
  {
   "cell_type": "markdown",
   "metadata": {},
   "source": [
    "## cross-time"
   ]
  },
  {
   "cell_type": "code",
   "execution_count": 35,
   "metadata": {},
   "outputs": [],
   "source": [
    "pre_ft_rep = gpt2xl_pre['h.11']\n",
    "post_ft_rep = gpt2xl_post['h.11']\n",
    "labels = datasets['train']['label'][:N['train']]"
   ]
  },
  {
   "cell_type": "code",
   "execution_count": 42,
   "metadata": {},
   "outputs": [],
   "source": [
    "def linear_shift_loss(A, delta, lambda_x, lambda_x_tilde, labels):\n",
    "\n",
    "    \"\"\"\n",
    "    Computes the loss for a batch of data.\n",
    "\n",
    "    Args:\n",
    "    A (torch.Tensor): The affine transformation matrix.\n",
    "    delta (torch.Tensor): The rank-one update vector.\n",
    "    lambda_x (torch.Tensor): Pre-finetuning activations (batch).\n",
    "    lambda_x_tilde (torch.Tensor): Post-finetuning activations (batch).\n",
    "\n",
    "    Returns:\n",
    "    torch.Tensor: The computed loss.\n",
    "    \"\"\"\n",
    "\n",
    "    # convert 0/1 labels to -1/1 labels; reshape from (N,) to (N,1)\n",
    "    reshaped_labels = (labels + (labels - 1)).unsqueeze(-1)\n",
    "\n",
    "    # apply affine transformation to lambda_x and shift by delta\n",
    "    transformed = torch.mm(lambda_x, A) + reshaped_labels * delta  # delta shape (1, D)\n",
    "\n",
    "    # Calculate the Frobenius norm of the difference, scaled by the number of samples\n",
    "    recon_loss = torch.norm(transformed - lambda_x_tilde, p='fro') ** 2 / lambda_x.size(0)\n",
    "\n",
    "    return recon_loss"
   ]
  },
  {
   "cell_type": "code",
   "execution_count": 44,
   "metadata": {},
   "outputs": [],
   "source": [
    "# TODO (non-urgent): dataloader with shuffle; early stopping based on epoch loss\n",
    "\n",
    "def optimize_Adelta(pre_ft_activations, post_ft_activations, labels, batch_size, lr=1e-3, tol=1e-5, max_iter=20000):\n",
    "\n",
    "    \"\"\"\n",
    "    Optimizes A and delta parameters using the provided pre and post-finetuning activations.\n",
    "\n",
    "    Args:\n",
    "    pre_ft_activations (np.array): Pre-finetuning activations.\n",
    "    post_ft_activations (np.array): Post-finetuning activations.\n",
    "    dim (int): The dimensionality of each feature vector.\n",
    "    batch_size (int): The size of each batch for optimization.\n",
    "    lr (float): Learning rate for the optimizer.\n",
    "    tol (float): Tolerance for convergence.\n",
    "    max_iter (int): Maximum number of iterations.\n",
    "\n",
    "    Returns:\n",
    "    Tuple[np.array, np.array]: Optimized A and delta.\n",
    "    \"\"\"\n",
    "\n",
    "    # get model dimension\n",
    "    dim = pre_ft_activations.shape[1]\n",
    "    \n",
    "    # Initialize A and delta as torch tensors\n",
    "    A = nn.Parameter(torch.eye(dim, requires_grad=True, device=device))\n",
    "    delta = nn.Parameter(torch.zeros(1, dim, requires_grad=True, device=device))\n",
    "\n",
    "    # Use the Adam optimizer\n",
    "    optimizer = optim.Adam([A, delta], lr=lr)\n",
    "\n",
    "    previous_loss = float('inf')\n",
    "    for iteration in range(max_iter):\n",
    "\n",
    "        for i in range(0, len(pre_ft_activations), batch_size):\n",
    "\n",
    "            optimizer.zero_grad()\n",
    "\n",
    "            batch_pre_ft = pre_ft_activations[i:i+batch_size].squeeze(1)\n",
    "            batch_post_ft = post_ft_activations[i:i+batch_size].squeeze(1)\n",
    "            batch_labels = labels[i:i+batch_size]\n",
    "#             print(batch_pre_ft.shape)\n",
    "#             print(batch_post_ft.shape)\n",
    "\n",
    "            loss = linear_shift_loss(A, delta, batch_pre_ft, batch_post_ft, batch_labels)\n",
    "            loss.backward()\n",
    "            optimizer.step()\n",
    "\n",
    "            current_loss = loss.item()\n",
    "            if iteration % 50 == 0 and i == 0:  # Print the loss for the first batch every 10 iterations\n",
    "                print(f\"Iteration {iteration}, Loss: {current_loss:.6f}\")\n",
    "            if abs(previous_loss - current_loss) < tol:\n",
    "                print(\"Convergence criterion met.\")\n",
    "                return A.detach(), delta.detach()\n",
    "            previous_loss = current_loss\n",
    "\n",
    "    print(\"Optimization finished.\")\n",
    "    return A.detach(), delta.detach()"
   ]
  },
  {
   "cell_type": "code",
   "execution_count": 45,
   "metadata": {},
   "outputs": [
    {
     "name": "stdout",
     "output_type": "stream",
     "text": [
      "Iteration 0, Loss: 121.929504\n",
      "Iteration 50, Loss: 6.667666\n",
      "Iteration 100, Loss: 3.795356\n",
      "Iteration 150, Loss: 3.176337\n",
      "Iteration 200, Loss: 2.760151\n",
      "Iteration 250, Loss: 2.448223\n",
      "Iteration 300, Loss: 2.201952\n",
      "Iteration 350, Loss: 2.000645\n",
      "Iteration 400, Loss: 1.831920\n",
      "Iteration 450, Loss: 1.687786\n",
      "Iteration 500, Loss: 1.562797\n",
      "Iteration 550, Loss: 1.453086\n",
      "Iteration 600, Loss: 1.355813\n",
      "Iteration 650, Loss: 1.268840\n",
      "Iteration 700, Loss: 1.190519\n",
      "Iteration 750, Loss: 1.119553\n",
      "Iteration 800, Loss: 1.054905\n",
      "Iteration 850, Loss: 0.995833\n",
      "Iteration 900, Loss: 0.944652\n",
      "Iteration 950, Loss: 0.907303\n",
      "Iteration 1000, Loss: 0.845655\n",
      "Iteration 1050, Loss: 0.802960\n",
      "Iteration 1100, Loss: 0.766633\n",
      "Iteration 1150, Loss: 0.731423\n",
      "Iteration 1200, Loss: 0.701045\n",
      "Iteration 1250, Loss: 1.534004\n",
      "Iteration 1300, Loss: 0.931115\n",
      "Iteration 1350, Loss: 0.952306\n",
      "Iteration 1400, Loss: 0.894091\n",
      "Iteration 1450, Loss: 0.960476\n",
      "Iteration 1500, Loss: 1.036489\n",
      "Iteration 1550, Loss: 1.300267\n",
      "Iteration 1600, Loss: 1.444525\n",
      "Iteration 1650, Loss: 1.571509\n",
      "Iteration 1700, Loss: 1.382373\n",
      "Iteration 1750, Loss: 1.329928\n",
      "Iteration 1800, Loss: 1.403764\n",
      "Iteration 1850, Loss: 1.602618\n",
      "Iteration 1900, Loss: 2.291536\n",
      "Iteration 1950, Loss: 2.092315\n",
      "Iteration 2000, Loss: 1.128561\n",
      "Iteration 2050, Loss: 1.164218\n",
      "Iteration 2100, Loss: 1.510174\n",
      "Iteration 2150, Loss: 1.277986\n",
      "Iteration 2200, Loss: 1.612074\n",
      "Iteration 2250, Loss: 2.059648\n",
      "Iteration 2300, Loss: 1.562049\n",
      "Iteration 2350, Loss: 1.118204\n",
      "Iteration 2400, Loss: 1.351132\n",
      "Iteration 2450, Loss: 1.136477\n",
      "Iteration 2500, Loss: 1.321200\n",
      "Iteration 2550, Loss: 1.812400\n",
      "Iteration 2600, Loss: 2.050664\n",
      "Iteration 2650, Loss: 1.179743\n",
      "Iteration 2700, Loss: 1.201453\n",
      "Iteration 2750, Loss: 1.102720\n",
      "Iteration 2800, Loss: 1.247177\n",
      "Iteration 2850, Loss: 1.578653\n",
      "Iteration 2900, Loss: 1.791495\n",
      "Iteration 2950, Loss: 1.673152\n",
      "Iteration 3000, Loss: 1.489475\n",
      "Iteration 3050, Loss: 1.107455\n",
      "Iteration 3100, Loss: 1.216958\n",
      "Iteration 3150, Loss: 1.260531\n",
      "Iteration 3200, Loss: 1.262099\n",
      "Iteration 3250, Loss: 1.542988\n",
      "Iteration 3300, Loss: 1.228006\n",
      "Iteration 3350, Loss: 1.147982\n",
      "Iteration 3400, Loss: 1.082468\n",
      "Iteration 3450, Loss: 1.272795\n",
      "Iteration 3500, Loss: 1.530459\n",
      "Iteration 3550, Loss: 1.518274\n",
      "Iteration 3600, Loss: 1.419474\n",
      "Iteration 3650, Loss: 1.304046\n",
      "Iteration 3700, Loss: 1.257524\n",
      "Iteration 3750, Loss: 1.263751\n",
      "Iteration 3800, Loss: 1.224071\n",
      "Iteration 3850, Loss: 1.557250\n",
      "Iteration 3900, Loss: 1.435741\n",
      "Iteration 3950, Loss: 1.364477\n",
      "Iteration 4000, Loss: 1.250619\n",
      "Iteration 4050, Loss: 1.460643\n",
      "Iteration 4100, Loss: 1.026614\n",
      "Iteration 4150, Loss: 1.104524\n",
      "Iteration 4200, Loss: 1.614696\n",
      "Iteration 4250, Loss: 1.507332\n",
      "Iteration 4300, Loss: 1.413079\n",
      "Iteration 4350, Loss: 1.278645\n",
      "Iteration 4400, Loss: 1.204632\n",
      "Iteration 4450, Loss: 1.260752\n",
      "Iteration 4500, Loss: 1.183561\n",
      "Iteration 4550, Loss: 1.225149\n",
      "Iteration 4600, Loss: 1.239888\n",
      "Iteration 4650, Loss: 1.374448\n",
      "Iteration 4700, Loss: 1.365751\n",
      "Iteration 4750, Loss: 1.161198\n",
      "Iteration 4800, Loss: 1.182853\n",
      "Iteration 4850, Loss: 1.424696\n",
      "Iteration 4900, Loss: 1.391184\n",
      "Iteration 4950, Loss: 1.307086\n",
      "Iteration 5000, Loss: 1.311470\n",
      "Iteration 5050, Loss: 1.354788\n",
      "Iteration 5100, Loss: 0.988292\n",
      "Iteration 5150, Loss: 1.219831\n",
      "Iteration 5200, Loss: 1.300899\n",
      "Iteration 5250, Loss: 1.154936\n",
      "Iteration 5300, Loss: 1.583582\n",
      "Iteration 5350, Loss: 1.400758\n",
      "Iteration 5400, Loss: 1.221859\n",
      "Iteration 5450, Loss: 1.125705\n",
      "Iteration 5500, Loss: 1.364592\n",
      "Iteration 5550, Loss: 1.210553\n",
      "Iteration 5600, Loss: 1.223213\n",
      "Iteration 5650, Loss: 1.396710\n",
      "Iteration 5700, Loss: 1.233047\n",
      "Iteration 5750, Loss: 1.296777\n",
      "Iteration 5800, Loss: 0.953700\n",
      "Iteration 5850, Loss: 1.159336\n",
      "Iteration 5900, Loss: 1.209726\n",
      "Iteration 5950, Loss: 1.384827\n",
      "Iteration 6000, Loss: 1.172421\n",
      "Iteration 6050, Loss: 1.507567\n",
      "Iteration 6100, Loss: 1.018393\n",
      "Iteration 6150, Loss: 0.908212\n",
      "Iteration 6200, Loss: 1.398039\n",
      "Iteration 6250, Loss: 1.019270\n",
      "Iteration 6300, Loss: 1.335606\n",
      "Iteration 6350, Loss: 1.241598\n",
      "Iteration 6400, Loss: 1.205819\n",
      "Iteration 6450, Loss: 1.130454\n",
      "Iteration 6500, Loss: 1.171256\n",
      "Iteration 6550, Loss: 1.268920\n",
      "Iteration 6600, Loss: 1.220328\n",
      "Iteration 6650, Loss: 1.267558\n",
      "Iteration 6700, Loss: 1.138148\n",
      "Iteration 6750, Loss: 1.176346\n",
      "Iteration 6800, Loss: 1.167896\n",
      "Iteration 6850, Loss: 1.151026\n",
      "Iteration 6900, Loss: 1.181359\n",
      "Iteration 6950, Loss: 1.447712\n",
      "Iteration 7000, Loss: 1.313329\n",
      "Iteration 7050, Loss: 1.362154\n",
      "Iteration 7100, Loss: 1.349926\n",
      "Iteration 7150, Loss: 1.136193\n",
      "Iteration 7200, Loss: 1.526814\n",
      "Iteration 7250, Loss: 1.014892\n",
      "Iteration 7300, Loss: 1.219429\n",
      "Iteration 7350, Loss: 1.244100\n",
      "Iteration 7400, Loss: 1.019195\n",
      "Iteration 7450, Loss: 1.308337\n",
      "Iteration 7500, Loss: 1.016325\n",
      "Iteration 7550, Loss: 1.062876\n",
      "Iteration 7600, Loss: 1.116117\n",
      "Iteration 7650, Loss: 1.118548\n",
      "Iteration 7700, Loss: 1.328148\n",
      "Iteration 7750, Loss: 1.292738\n",
      "Iteration 7800, Loss: 1.191095\n",
      "Iteration 7850, Loss: 1.276330\n",
      "Iteration 7900, Loss: 1.139502\n",
      "Iteration 7950, Loss: 1.417619\n",
      "Iteration 8000, Loss: 1.204470\n",
      "Iteration 8050, Loss: 1.136565\n",
      "Iteration 8100, Loss: 1.225820\n",
      "Iteration 8150, Loss: 1.245552\n",
      "Iteration 8200, Loss: 1.055239\n",
      "Iteration 8250, Loss: 1.103376\n",
      "Iteration 8300, Loss: 1.282991\n",
      "Iteration 8350, Loss: 1.402790\n",
      "Iteration 8400, Loss: 1.059214\n",
      "Iteration 8450, Loss: 1.273381\n",
      "Iteration 8500, Loss: 1.249609\n",
      "Iteration 8550, Loss: 1.268043\n",
      "Iteration 8600, Loss: 1.179437\n",
      "Iteration 8650, Loss: 1.232354\n",
      "Iteration 8700, Loss: 1.461689\n",
      "Iteration 8750, Loss: 1.052960\n",
      "Iteration 8800, Loss: 1.209812\n",
      "Iteration 8850, Loss: 1.341914\n",
      "Iteration 8900, Loss: 1.260566\n",
      "Iteration 8950, Loss: 1.432648\n",
      "Iteration 9000, Loss: 1.221124\n",
      "Iteration 9050, Loss: 1.111759\n",
      "Iteration 9100, Loss: 1.079089\n",
      "Iteration 9150, Loss: 1.105325\n",
      "Iteration 9200, Loss: 1.135953\n",
      "Iteration 9250, Loss: 1.225685\n",
      "Iteration 9300, Loss: 1.316673\n",
      "Iteration 9350, Loss: 1.234757\n",
      "Iteration 9400, Loss: 1.349283\n",
      "Iteration 9450, Loss: 1.158098\n",
      "Iteration 9500, Loss: 1.149899\n",
      "Iteration 9550, Loss: 1.420571\n",
      "Iteration 9600, Loss: 1.107522\n",
      "Iteration 9650, Loss: 1.049413\n",
      "Iteration 9700, Loss: 1.392942\n",
      "Iteration 9750, Loss: 1.057648\n",
      "Iteration 9800, Loss: 1.092783\n",
      "Iteration 9850, Loss: 1.009918\n",
      "Iteration 9900, Loss: 1.235841\n",
      "Iteration 9950, Loss: 1.363099\n",
      "Iteration 10000, Loss: 1.132294\n",
      "Iteration 10050, Loss: 1.276740\n",
      "Iteration 10100, Loss: 1.408907\n",
      "Iteration 10150, Loss: 1.166522\n",
      "Iteration 10200, Loss: 1.451284\n",
      "Iteration 10250, Loss: 1.401353\n",
      "Iteration 10300, Loss: 1.332866\n",
      "Iteration 10350, Loss: 1.137634\n",
      "Iteration 10400, Loss: 1.100380\n",
      "Iteration 10450, Loss: 1.036076\n",
      "Iteration 10500, Loss: 1.123655\n",
      "Iteration 10550, Loss: 1.141420\n",
      "Iteration 10600, Loss: 1.325432\n",
      "Iteration 10650, Loss: 1.245448\n",
      "Iteration 10700, Loss: 1.166076\n",
      "Iteration 10750, Loss: 1.261203\n",
      "Iteration 10800, Loss: 1.388531\n",
      "Iteration 10850, Loss: 1.254312\n",
      "Iteration 10900, Loss: 1.129376\n",
      "Iteration 10950, Loss: 1.074376\n",
      "Iteration 11000, Loss: 1.211321\n",
      "Iteration 11050, Loss: 1.083191\n",
      "Iteration 11100, Loss: 0.982474\n",
      "Iteration 11150, Loss: 1.191182\n",
      "Iteration 11200, Loss: 1.106339\n",
      "Iteration 11250, Loss: 1.221994\n",
      "Iteration 11300, Loss: 1.056182\n",
      "Iteration 11350, Loss: 1.376743\n",
      "Iteration 11400, Loss: 1.104449\n",
      "Iteration 11450, Loss: 1.427913\n",
      "Iteration 11500, Loss: 1.450040\n",
      "Iteration 11550, Loss: 1.245728\n",
      "Iteration 11600, Loss: 1.136396\n",
      "Iteration 11650, Loss: 1.182344\n",
      "Iteration 11700, Loss: 0.867002\n",
      "Iteration 11750, Loss: 1.115048\n",
      "Iteration 11800, Loss: 1.086853\n",
      "Iteration 11850, Loss: 1.429737\n",
      "Iteration 11900, Loss: 1.379250\n",
      "Iteration 11950, Loss: 1.196793\n",
      "Iteration 12000, Loss: 0.951145\n",
      "Iteration 12050, Loss: 1.071498\n",
      "Iteration 12100, Loss: 1.305913\n",
      "Iteration 12150, Loss: 1.046191\n",
      "Iteration 12200, Loss: 1.253855\n",
      "Iteration 12250, Loss: 1.201054\n",
      "Iteration 12300, Loss: 1.186016\n",
      "Iteration 12350, Loss: 1.109818\n",
      "Iteration 12400, Loss: 1.403085\n",
      "Iteration 12450, Loss: 1.154525\n",
      "Iteration 12500, Loss: 1.306470\n",
      "Iteration 12550, Loss: 1.290844\n",
      "Iteration 12600, Loss: 1.016462\n",
      "Iteration 12650, Loss: 0.957828\n",
      "Iteration 12700, Loss: 0.983452\n",
      "Iteration 12750, Loss: 1.546254\n",
      "Iteration 12800, Loss: 1.244528\n",
      "Iteration 12850, Loss: 1.061028\n",
      "Iteration 12900, Loss: 1.043233\n",
      "Iteration 12950, Loss: 1.209388\n",
      "Iteration 13000, Loss: 1.207547\n",
      "Iteration 13050, Loss: 1.181126\n",
      "Iteration 13100, Loss: 1.116784\n",
      "Iteration 13150, Loss: 1.169749\n",
      "Iteration 13200, Loss: 1.362600\n",
      "Iteration 13250, Loss: 1.344001\n",
      "Iteration 13300, Loss: 1.157035\n",
      "Iteration 13350, Loss: 0.971746\n",
      "Iteration 13400, Loss: 1.074132\n",
      "Iteration 13450, Loss: 1.116411\n",
      "Iteration 13500, Loss: 1.216628\n",
      "Iteration 13550, Loss: 1.241976\n",
      "Iteration 13600, Loss: 1.212801\n",
      "Iteration 13650, Loss: 1.272346\n",
      "Iteration 13700, Loss: 1.033579\n",
      "Iteration 13750, Loss: 0.851274\n",
      "Iteration 13800, Loss: 1.177168\n",
      "Iteration 13850, Loss: 1.190174\n",
      "Iteration 13900, Loss: 1.247815\n",
      "Iteration 13950, Loss: 1.268475\n",
      "Iteration 14000, Loss: 1.144062\n",
      "Iteration 14050, Loss: 1.348272\n",
      "Iteration 14100, Loss: 0.904553\n",
      "Iteration 14150, Loss: 1.236280\n",
      "Iteration 14200, Loss: 1.180639\n",
      "Iteration 14250, Loss: 1.501616\n",
      "Iteration 14300, Loss: 1.116395\n",
      "Iteration 14350, Loss: 1.171327\n",
      "Iteration 14400, Loss: 1.086858\n",
      "Iteration 14450, Loss: 1.068430\n",
      "Iteration 14500, Loss: 1.241682\n",
      "Iteration 14550, Loss: 1.221025\n",
      "Iteration 14600, Loss: 1.268376\n",
      "Iteration 14650, Loss: 1.346823\n",
      "Iteration 14700, Loss: 1.109856\n",
      "Iteration 14750, Loss: 1.178673\n",
      "Iteration 14800, Loss: 1.047394\n",
      "Iteration 14850, Loss: 1.259163\n",
      "Iteration 14900, Loss: 1.100212\n",
      "Iteration 14950, Loss: 1.288341\n",
      "Iteration 15000, Loss: 1.115925\n",
      "Iteration 15050, Loss: 1.334952\n",
      "Iteration 15100, Loss: 1.110255\n",
      "Iteration 15150, Loss: 1.025760\n",
      "Iteration 15200, Loss: 1.259046\n",
      "Iteration 15250, Loss: 1.284054\n",
      "Iteration 15300, Loss: 1.110031\n",
      "Iteration 15350, Loss: 1.174281\n",
      "Iteration 15400, Loss: 1.306978\n",
      "Iteration 15450, Loss: 1.081355\n",
      "Iteration 15500, Loss: 1.223476\n",
      "Iteration 15550, Loss: 1.140450\n",
      "Iteration 15600, Loss: 1.118910\n",
      "Iteration 15650, Loss: 0.885124\n",
      "Iteration 15700, Loss: 1.124963\n",
      "Iteration 15750, Loss: 0.991661\n",
      "Iteration 15800, Loss: 1.045310\n",
      "Iteration 15850, Loss: 1.432877\n",
      "Iteration 15900, Loss: 1.280434\n",
      "Iteration 15950, Loss: 1.239807\n",
      "Iteration 16000, Loss: 1.141681\n",
      "Iteration 16050, Loss: 1.169160\n",
      "Iteration 16100, Loss: 1.047260\n",
      "Iteration 16150, Loss: 1.133053\n",
      "Iteration 16200, Loss: 1.452714\n",
      "Iteration 16250, Loss: 0.837727\n",
      "Iteration 16300, Loss: 1.115873\n",
      "Iteration 16350, Loss: 1.063462\n",
      "Iteration 16400, Loss: 1.201226\n",
      "Iteration 16450, Loss: 1.117795\n",
      "Iteration 16500, Loss: 1.140695\n",
      "Iteration 16550, Loss: 1.197964\n",
      "Iteration 16600, Loss: 0.966948\n",
      "Iteration 16650, Loss: 1.092997\n",
      "Iteration 16700, Loss: 1.319508\n",
      "Iteration 16750, Loss: 1.483337\n",
      "Iteration 16800, Loss: 1.316286\n",
      "Iteration 16850, Loss: 0.964731\n",
      "Iteration 16900, Loss: 1.370803\n",
      "Iteration 16950, Loss: 1.140717\n",
      "Iteration 17000, Loss: 0.831495\n",
      "Iteration 17050, Loss: 1.057375\n",
      "Iteration 17100, Loss: 1.160220\n",
      "Iteration 17150, Loss: 1.277451\n",
      "Iteration 17200, Loss: 1.048238\n",
      "Iteration 17250, Loss: 1.294132\n",
      "Iteration 17300, Loss: 1.283062\n",
      "Iteration 17350, Loss: 1.176515\n",
      "Iteration 17400, Loss: 1.350209\n",
      "Iteration 17450, Loss: 1.302643\n",
      "Iteration 17500, Loss: 1.125051\n",
      "Iteration 17550, Loss: 1.235207\n",
      "Iteration 17600, Loss: 1.087923\n",
      "Iteration 17650, Loss: 1.157152\n",
      "Iteration 17700, Loss: 1.155890\n",
      "Iteration 17750, Loss: 1.203412\n",
      "Iteration 17800, Loss: 1.044615\n",
      "Iteration 17850, Loss: 1.108684\n",
      "Iteration 17900, Loss: 1.038006\n",
      "Iteration 17950, Loss: 1.194374\n",
      "Iteration 18000, Loss: 1.027910\n",
      "Iteration 18050, Loss: 0.990674\n",
      "Iteration 18100, Loss: 0.952886\n",
      "Iteration 18150, Loss: 1.417782\n",
      "Iteration 18200, Loss: 1.062875\n",
      "Iteration 18250, Loss: 1.207275\n",
      "Iteration 18300, Loss: 1.120610\n",
      "Iteration 18350, Loss: 0.979460\n",
      "Iteration 18400, Loss: 1.314243\n",
      "Iteration 18450, Loss: 1.084699\n",
      "Iteration 18500, Loss: 1.422130\n",
      "Iteration 18550, Loss: 1.165702\n",
      "Iteration 18600, Loss: 1.210251\n",
      "Iteration 18650, Loss: 0.985723\n",
      "Iteration 18700, Loss: 1.334508\n",
      "Iteration 18750, Loss: 1.338378\n",
      "Iteration 18800, Loss: 1.142627\n",
      "Iteration 18850, Loss: 1.278051\n",
      "Iteration 18900, Loss: 1.107884\n",
      "Iteration 18950, Loss: 1.493813\n",
      "Iteration 19000, Loss: 1.058810\n",
      "Iteration 19050, Loss: 1.001253\n",
      "Iteration 19100, Loss: 1.264969\n",
      "Iteration 19150, Loss: 1.453146\n",
      "Iteration 19200, Loss: 1.092617\n",
      "Iteration 19250, Loss: 1.109638\n",
      "Iteration 19300, Loss: 1.183019\n",
      "Iteration 19350, Loss: 1.518417\n",
      "Iteration 19400, Loss: 1.189865\n",
      "Iteration 19450, Loss: 1.125633\n",
      "Iteration 19500, Loss: 1.202732\n",
      "Iteration 19550, Loss: 1.179756\n",
      "Iteration 19600, Loss: 1.260958\n",
      "Iteration 19650, Loss: 1.096627\n",
      "Iteration 19700, Loss: 0.919276\n",
      "Iteration 19750, Loss: 1.133333\n",
      "Iteration 19800, Loss: 1.198736\n",
      "Iteration 19850, Loss: 1.349224\n",
      "Iteration 19900, Loss: 0.926426\n",
      "Iteration 19950, Loss: 1.322458\n",
      "Optimization finished.\n"
     ]
    }
   ],
   "source": [
    "A_opt, delta_opt = optimize_Adelta(pre_ft_activations=pre_ft_rep, post_ft_activations=post_ft_rep, labels=labels, batch_size=2000, lr=1e-3, tol=1e-5, max_iter=20000)"
   ]
  },
  {
   "cell_type": "code",
   "execution_count": 48,
   "metadata": {},
   "outputs": [
    {
     "data": {
      "text/plain": [
       "torch.Size([1600, 1600])"
      ]
     },
     "execution_count": 48,
     "metadata": {},
     "output_type": "execute_result"
    }
   ],
   "source": [
    "A_opt.shape"
   ]
  },
  {
   "cell_type": "code",
   "execution_count": 46,
   "metadata": {},
   "outputs": [
    {
     "data": {
      "text/plain": [
       "tensor([[-0.0008, -0.0003, -0.0024,  ..., -0.0024,  0.0007,  0.0018]],\n",
       "       device='cuda:0')"
      ]
     },
     "execution_count": 46,
     "metadata": {},
     "output_type": "execute_result"
    }
   ],
   "source": [
    "delta_opt"
   ]
  },
  {
   "cell_type": "markdown",
   "metadata": {},
   "source": [
    "### save"
   ]
  },
  {
   "cell_type": "code",
   "execution_count": null,
   "metadata": {},
   "outputs": [],
   "source": [
    "# db = {\n",
    "#     'A_opt': A_opt,\n",
    "#     'delta_opt': delta_opt\n",
    "# }\n",
    "\n",
    "# with open(f\"../results/transformation/temporal_signed_gpt2xl_ft=amazpola-gt_N={N['train']}.pickle\", 'wb') as f:\n",
    "#     pickle.dump(db, f)"
   ]
  },
  {
   "cell_type": "code",
   "execution_count": 51,
   "metadata": {},
   "outputs": [
    {
     "data": {
      "text/plain": [
       "{'A_opt': tensor([[ 1.0150e+00,  1.6265e-03,  1.2608e-02,  ...,  2.3878e-03,\n",
       "           5.2870e-03, -4.7890e-03],\n",
       "         [-1.5942e-03,  1.0158e+00, -1.2098e-04,  ...,  5.8568e-03,\n",
       "           6.8159e-03, -2.1452e-03],\n",
       "         [ 1.0394e-02,  3.3850e-03,  1.0200e+00,  ..., -7.2959e-04,\n",
       "           5.2230e-03, -5.0619e-03],\n",
       "         ...,\n",
       "         [ 1.2748e-03,  2.2789e-03,  1.0703e-02,  ...,  1.0228e+00,\n",
       "           5.2250e-03, -3.9365e-03],\n",
       "         [-1.3981e-02,  1.7400e-03, -4.8733e-03,  ...,  7.0545e-04,\n",
       "           1.0194e+00, -4.4977e-03],\n",
       "         [-1.0525e-02,  7.3040e-03,  5.8106e-03,  ...,  9.3395e-03,\n",
       "          -6.5023e-04,  1.0196e+00]], device='cuda:0'),\n",
       " 'delta_opt': tensor([[-5.5454e-04, -4.4035e-05, -7.6314e-04,  ...,  1.1511e-03,\n",
       "          -4.2261e-04,  3.2231e-03]], device='cuda:0')}"
      ]
     },
     "execution_count": 51,
     "metadata": {},
     "output_type": "execute_result"
    }
   ],
   "source": [
    "with (open(f\"../results/transformation/temporal_signed_gpt2xl_ft=amazpola-gt_N={10000}.pickle\", \"rb\")) as f:\n",
    "    db = pickle.load(f)\n",
    "\n",
    "db"
   ]
  },
  {
   "cell_type": "markdown",
   "metadata": {},
   "source": [
    "### loss sanity check"
   ]
  },
  {
   "cell_type": "code",
   "execution_count": 58,
   "metadata": {},
   "outputs": [],
   "source": [
    "# set model rep dimension\n",
    "D = 768"
   ]
  },
  {
   "cell_type": "code",
   "execution_count": 59,
   "metadata": {},
   "outputs": [
    {
     "data": {
      "text/plain": [
       "tensor([[0.8454, 0.3408, 0.7257,  ..., 0.1922, 0.3230, 0.3801],\n",
       "        [0.7870, 0.4072, 0.6734,  ..., 0.9370, 0.0347, 0.5622],\n",
       "        [0.2406, 0.1631, 0.1027,  ..., 0.3500, 0.7222, 0.6971],\n",
       "        ...,\n",
       "        [0.6927, 0.8460, 0.7912,  ..., 0.1799, 0.5827, 0.6067],\n",
       "        [0.9617, 0.3252, 0.4637,  ..., 0.1648, 0.9512, 0.7483],\n",
       "        [0.4929, 0.0519, 0.5195,  ..., 0.5585, 0.0525, 0.1418]],\n",
       "       device='cuda:0')"
      ]
     },
     "execution_count": 59,
     "metadata": {},
     "output_type": "execute_result"
    }
   ],
   "source": [
    "A_test = torch.rand(D, D, device=device)\n",
    "A_test"
   ]
  },
  {
   "cell_type": "code",
   "execution_count": 65,
   "metadata": {},
   "outputs": [
    {
     "data": {
      "text/plain": [
       "torch.Size([1, 768])"
      ]
     },
     "execution_count": 65,
     "metadata": {},
     "output_type": "execute_result"
    }
   ],
   "source": [
    "delta_test = torch.ones(1, D, device=device)\n",
    "delta_test.shape"
   ]
  },
  {
   "cell_type": "code",
   "execution_count": 63,
   "metadata": {},
   "outputs": [
    {
     "data": {
      "text/plain": [
       "tensor([1, 0, 0,  ..., 1, 0, 0], device='cuda:0')"
      ]
     },
     "execution_count": 63,
     "metadata": {},
     "output_type": "execute_result"
    }
   ],
   "source": [
    "labels_test = torch.randint(0, 2, (10000,), device=device)\n",
    "labels_test"
   ]
  },
  {
   "cell_type": "code",
   "execution_count": 68,
   "metadata": {},
   "outputs": [],
   "source": [
    "# sanity check with rand pre- and post-ft activations\n",
    "activation_pre = torch.rand(10000, D, device=device)\n",
    "activation_post = torch.mm(activation_pre, A_test) + (labels_test + (labels_test - 1)).unsqueeze(-1) * delta_test"
   ]
  },
  {
   "cell_type": "code",
   "execution_count": 69,
   "metadata": {},
   "outputs": [
    {
     "data": {
      "text/plain": [
       "tensor([[0.8896, 0.1563, 0.2371,  ..., 0.7455, 0.4702, 0.6767],\n",
       "        [0.4114, 0.5977, 0.9330,  ..., 0.6033, 0.7133, 0.0798],\n",
       "        [0.3303, 0.1095, 0.0079,  ..., 0.9362, 0.3507, 0.2367],\n",
       "        ...,\n",
       "        [0.6645, 0.2325, 0.7324,  ..., 0.8525, 0.3268, 0.3042],\n",
       "        [0.6750, 0.5569, 0.7080,  ..., 0.1567, 0.8694, 0.1064],\n",
       "        [0.9829, 0.3157, 0.5046,  ..., 0.8000, 0.9893, 0.9744]],\n",
       "       device='cuda:0')"
      ]
     },
     "execution_count": 69,
     "metadata": {},
     "output_type": "execute_result"
    }
   ],
   "source": [
    "activation_pre"
   ]
  },
  {
   "cell_type": "code",
   "execution_count": 70,
   "metadata": {},
   "outputs": [
    {
     "data": {
      "text/plain": [
       "tensor([[193.8935, 203.0139, 192.9750,  ..., 190.2747, 199.0667, 206.8257],\n",
       "        [193.3691, 201.9770, 191.1656,  ..., 182.9456, 196.8861, 198.0956],\n",
       "        [189.2366, 200.9785, 187.5216,  ..., 184.9357, 190.4426, 199.4775],\n",
       "        ...,\n",
       "        [192.3136, 203.8072, 190.7416,  ..., 187.9311, 197.1982, 206.9719],\n",
       "        [184.4500, 192.9791, 177.9782,  ..., 175.8113, 189.4777, 189.5950],\n",
       "        [189.0799, 201.6201, 186.5544,  ..., 183.5273, 191.0172, 204.0677]],\n",
       "       device='cuda:0')"
      ]
     },
     "execution_count": 70,
     "metadata": {},
     "output_type": "execute_result"
    }
   ],
   "source": [
    "activation_post"
   ]
  },
  {
   "cell_type": "code",
   "execution_count": 72,
   "metadata": {},
   "outputs": [
    {
     "name": "stdout",
     "output_type": "stream",
     "text": [
      "Iteration 0, Loss: 28232544.000000\n",
      "Iteration 50, Loss: 8783695.000000\n",
      "Iteration 100, Loss: 1897138.375000\n",
      "Iteration 150, Loss: 262374.468750\n",
      "Iteration 200, Loss: 25207.306641\n",
      "Iteration 250, Loss: 5277.470215\n",
      "Iteration 300, Loss: 4276.519531\n",
      "Iteration 350, Loss: 4195.062012\n",
      "Iteration 400, Loss: 4152.375977\n",
      "Iteration 450, Loss: 4121.506348\n",
      "Iteration 500, Loss: 4097.995605\n",
      "Iteration 550, Loss: 4078.346680\n",
      "Iteration 600, Loss: 4059.917969\n",
      "Iteration 650, Loss: 4040.908203\n",
      "Iteration 700, Loss: 4020.185547\n",
      "Iteration 750, Loss: 3997.049805\n",
      "Iteration 800, Loss: 3971.020508\n",
      "Iteration 850, Loss: 3941.700684\n",
      "Iteration 900, Loss: 3908.699707\n",
      "Iteration 950, Loss: 3871.608398\n",
      "Iteration 1000, Loss: 3829.984375\n",
      "Iteration 1050, Loss: 3783.352783\n",
      "Iteration 1100, Loss: 3731.205078\n",
      "Iteration 1150, Loss: 3673.006836\n",
      "Iteration 1200, Loss: 3608.199219\n",
      "Iteration 1250, Loss: 3536.208740\n",
      "Iteration 1300, Loss: 3456.458252\n",
      "Iteration 1350, Loss: 3368.384521\n",
      "Iteration 1400, Loss: 3271.455322\n",
      "Iteration 1450, Loss: 3165.194336\n",
      "Iteration 1500, Loss: 3049.215820\n",
      "Iteration 1550, Loss: 2923.254639\n",
      "Iteration 1600, Loss: 2787.211426\n",
      "Iteration 1650, Loss: 2641.197510\n",
      "Iteration 1700, Loss: 2485.584229\n",
      "Iteration 1750, Loss: 2321.048340\n",
      "Iteration 1800, Loss: 2148.619141\n",
      "Iteration 1850, Loss: 1969.711548\n",
      "Iteration 1900, Loss: 1786.140991\n",
      "Iteration 1950, Loss: 1600.119385\n",
      "Iteration 2000, Loss: 1414.213867\n",
      "Iteration 2050, Loss: 1231.271973\n",
      "Iteration 2100, Loss: 1054.303345\n",
      "Iteration 2150, Loss: 886.322998\n",
      "Iteration 2200, Loss: 730.166382\n",
      "Iteration 2250, Loss: 588.288330\n",
      "Iteration 2300, Loss: 462.571838\n",
      "Iteration 2350, Loss: 354.174377\n",
      "Iteration 2400, Loss: 263.436218\n",
      "Iteration 2450, Loss: 189.871735\n",
      "Iteration 2500, Loss: 132.250366\n",
      "Iteration 2550, Loss: 88.757370\n",
      "Iteration 2600, Loss: 57.208279\n",
      "Iteration 2650, Loss: 35.281174\n",
      "Iteration 2700, Loss: 20.729427\n",
      "Iteration 2750, Loss: 11.545284\n",
      "Iteration 2800, Loss: 6.059351\n",
      "Iteration 2850, Loss: 2.976029\n",
      "Iteration 2900, Loss: 1.356821\n",
      "Iteration 2950, Loss: 0.568865\n",
      "Iteration 3000, Loss: 0.216972\n",
      "Iteration 3050, Loss: 0.074359\n",
      "Iteration 3100, Loss: 0.022578\n",
      "Convergence criterion met.\n"
     ]
    }
   ],
   "source": [
    "A_test_opt, delta_test_opt = optimize_Adelta(pre_ft_activations=activation_pre, post_ft_activations=activation_post, labels=labels_test, batch_size=2000, lr=1e-3, tol=1e-5, max_iter=20000)"
   ]
  },
  {
   "cell_type": "code",
   "execution_count": 73,
   "metadata": {},
   "outputs": [
    {
     "data": {
      "text/plain": [
       "tensor([[0.8463, 0.3407, 0.7251,  ..., 0.1916, 0.3226, 0.3797],\n",
       "        [0.7865, 0.4104, 0.6723,  ..., 0.9369, 0.0353, 0.5613],\n",
       "        [0.2406, 0.1634, 0.1042,  ..., 0.3508, 0.7206, 0.6969],\n",
       "        ...,\n",
       "        [0.6934, 0.8462, 0.7914,  ..., 0.1822, 0.5823, 0.6075],\n",
       "        [0.9613, 0.3244, 0.4639,  ..., 0.1651, 0.9518, 0.7464],\n",
       "        [0.4927, 0.0532, 0.5195,  ..., 0.5588, 0.0536, 0.1460]],\n",
       "       device='cuda:0')"
      ]
     },
     "execution_count": 73,
     "metadata": {},
     "output_type": "execute_result"
    }
   ],
   "source": [
    "A_test_opt"
   ]
  },
  {
   "cell_type": "code",
   "execution_count": 74,
   "metadata": {},
   "outputs": [
    {
     "data": {
      "text/plain": [
       "tensor([[1.0000, 1.0001, 0.9999, 0.9999, 1.0000, 1.0000, 1.0001, 1.0000, 1.0001,\n",
       "         1.0000, 0.9998, 0.9999, 0.9999, 0.9999, 1.0000, 1.0000, 1.0000, 1.0000,\n",
       "         1.0000, 0.9999, 1.0001, 1.0000, 1.0000, 1.0000, 1.0000, 1.0000, 1.0000,\n",
       "         0.9999, 1.0000, 1.0001, 1.0000, 1.0000, 0.9999, 1.0001, 1.0000, 1.0000,\n",
       "         1.0000, 1.0001, 1.0000, 1.0000, 1.0001, 1.0000, 1.0000, 1.0000, 0.9999,\n",
       "         1.0001, 1.0000, 1.0000, 1.0000, 1.0001, 1.0001, 1.0000, 1.0000, 1.0000,\n",
       "         1.0000, 1.0000, 1.0000, 1.0000, 1.0000, 0.9999, 1.0000, 1.0001, 1.0001,\n",
       "         0.9999, 1.0000, 1.0000, 0.9999, 1.0000, 0.9999, 1.0000, 1.0000, 0.9999,\n",
       "         0.9999, 1.0002, 0.9999, 1.0000, 1.0001, 1.0000, 1.0000, 0.9999, 1.0000,\n",
       "         1.0000, 1.0000, 1.0001, 1.0000, 1.0001, 1.0001, 1.0000, 1.0000, 1.0001,\n",
       "         1.0000, 0.9998, 1.0000, 1.0001, 1.0000, 1.0001, 1.0000, 0.9999, 1.0000,\n",
       "         1.0000, 1.0000, 0.9999, 1.0001, 1.0001, 1.0000, 0.9999, 1.0002, 1.0000,\n",
       "         1.0000, 0.9999, 1.0000, 0.9999, 1.0000, 1.0000, 0.9999, 1.0000, 1.0000,\n",
       "         1.0000, 1.0000, 1.0000, 1.0000, 1.0000, 1.0000, 1.0000, 1.0000, 1.0000,\n",
       "         1.0000, 1.0000, 1.0000, 1.0000, 1.0000, 1.0000, 1.0000, 1.0000, 1.0000,\n",
       "         1.0001, 1.0001, 1.0000, 1.0000, 1.0000, 0.9999, 1.0000, 1.0000, 1.0000,\n",
       "         0.9999, 1.0000, 0.9999, 1.0000, 1.0000, 1.0001, 1.0001, 0.9999, 1.0001,\n",
       "         0.9999, 0.9999, 0.9999, 1.0000, 1.0000, 1.0000, 1.0000, 1.0000, 1.0000,\n",
       "         1.0000, 1.0001, 1.0000, 1.0000, 0.9999, 1.0000, 1.0001, 0.9999, 1.0000,\n",
       "         1.0001, 1.0001, 0.9999, 1.0000, 1.0000, 1.0001, 0.9999, 0.9999, 1.0000,\n",
       "         1.0001, 1.0000, 1.0001, 1.0001, 1.0000, 1.0000, 1.0000, 0.9999, 0.9999,\n",
       "         1.0000, 1.0000, 1.0000, 1.0000, 1.0000, 1.0001, 1.0001, 1.0000, 1.0001,\n",
       "         1.0001, 0.9999, 0.9999, 0.9999, 1.0000, 1.0000, 1.0000, 1.0000, 1.0001,\n",
       "         1.0000, 0.9999, 1.0000, 1.0000, 1.0001, 0.9999, 1.0000, 1.0000, 1.0000,\n",
       "         1.0000, 1.0000, 1.0001, 1.0000, 0.9999, 1.0000, 0.9999, 1.0000, 1.0001,\n",
       "         1.0001, 1.0000, 1.0001, 1.0000, 0.9999, 1.0000, 0.9999, 1.0000, 1.0000,\n",
       "         1.0000, 1.0001, 1.0000, 1.0000, 0.9999, 1.0000, 1.0000, 0.9999, 1.0001,\n",
       "         1.0000, 1.0000, 0.9999, 0.9999, 1.0000, 0.9999, 1.0000, 1.0000, 1.0000,\n",
       "         1.0000, 1.0000, 1.0000, 1.0001, 0.9998, 1.0001, 1.0000, 1.0000, 1.0000,\n",
       "         1.0000, 1.0001, 1.0000, 1.0001, 1.0001, 1.0000, 1.0000, 1.0001, 1.0000,\n",
       "         1.0000, 0.9999, 1.0000, 1.0000, 1.0000, 1.0000, 1.0001, 1.0000, 1.0000,\n",
       "         1.0000, 1.0000, 1.0001, 1.0000, 1.0000, 1.0000, 1.0001, 1.0001, 1.0001,\n",
       "         1.0000, 1.0000, 1.0000, 0.9999, 1.0001, 1.0000, 1.0000, 1.0000, 1.0000,\n",
       "         1.0000, 1.0000, 1.0000, 1.0000, 0.9999, 1.0000, 1.0001, 0.9999, 1.0001,\n",
       "         0.9999, 1.0000, 1.0001, 1.0000, 1.0000, 0.9999, 1.0000, 1.0000, 1.0000,\n",
       "         0.9999, 1.0001, 1.0000, 1.0000, 1.0000, 0.9999, 1.0001, 1.0001, 1.0000,\n",
       "         1.0001, 0.9999, 1.0000, 1.0000, 1.0001, 1.0000, 1.0000, 0.9999, 1.0000,\n",
       "         1.0000, 1.0000, 1.0000, 1.0000, 1.0000, 1.0000, 1.0000, 1.0000, 0.9999,\n",
       "         0.9999, 1.0000, 1.0000, 1.0000, 1.0001, 1.0001, 0.9999, 1.0001, 1.0000,\n",
       "         1.0000, 1.0001, 1.0000, 1.0001, 1.0000, 1.0000, 1.0001, 1.0001, 1.0000,\n",
       "         0.9999, 0.9999, 1.0001, 1.0001, 1.0000, 1.0001, 1.0000, 0.9999, 1.0000,\n",
       "         1.0000, 1.0001, 1.0000, 1.0000, 1.0000, 1.0000, 1.0000, 1.0000, 1.0000,\n",
       "         1.0000, 1.0000, 1.0001, 1.0001, 1.0000, 1.0001, 1.0000, 1.0000, 1.0000,\n",
       "         1.0000, 1.0000, 1.0000, 1.0001, 1.0001, 1.0000, 0.9998, 1.0000, 1.0000,\n",
       "         1.0000, 1.0000, 1.0000, 1.0000, 1.0001, 1.0000, 1.0000, 0.9998, 0.9999,\n",
       "         1.0001, 1.0001, 1.0001, 1.0000, 1.0000, 1.0000, 0.9999, 1.0000, 1.0000,\n",
       "         1.0001, 1.0001, 1.0000, 1.0000, 1.0000, 1.0000, 1.0000, 1.0000, 0.9999,\n",
       "         1.0000, 1.0000, 0.9999, 1.0000, 1.0000, 1.0000, 0.9999, 0.9999, 0.9999,\n",
       "         1.0000, 0.9999, 1.0000, 0.9999, 0.9999, 0.9999, 0.9999, 1.0001, 1.0000,\n",
       "         1.0000, 1.0001, 1.0001, 0.9999, 0.9999, 1.0000, 0.9999, 1.0001, 1.0001,\n",
       "         1.0000, 1.0000, 0.9999, 0.9999, 0.9999, 0.9999, 1.0000, 1.0000, 0.9999,\n",
       "         0.9999, 1.0000, 1.0000, 1.0001, 1.0000, 1.0000, 1.0000, 1.0001, 0.9999,\n",
       "         0.9999, 1.0001, 1.0001, 0.9999, 1.0002, 1.0000, 0.9999, 0.9999, 0.9999,\n",
       "         1.0001, 0.9999, 1.0000, 1.0000, 1.0000, 1.0000, 0.9999, 1.0001, 0.9999,\n",
       "         0.9999, 0.9999, 1.0000, 1.0000, 0.9999, 1.0001, 1.0000, 1.0000, 1.0000,\n",
       "         1.0000, 1.0000, 1.0001, 1.0000, 1.0000, 1.0000, 0.9999, 1.0000, 1.0000,\n",
       "         1.0001, 1.0000, 0.9999, 1.0000, 0.9999, 1.0000, 1.0001, 1.0000, 1.0000,\n",
       "         1.0001, 1.0000, 1.0000, 1.0000, 0.9999, 1.0000, 1.0001, 1.0000, 1.0000,\n",
       "         1.0001, 1.0000, 1.0001, 0.9999, 1.0000, 1.0001, 1.0000, 1.0000, 1.0001,\n",
       "         1.0000, 0.9999, 1.0000, 1.0001, 1.0001, 1.0000, 1.0001, 0.9999, 0.9999,\n",
       "         1.0001, 1.0001, 0.9999, 1.0001, 1.0000, 0.9999, 1.0000, 0.9999, 1.0001,\n",
       "         0.9999, 1.0000, 0.9999, 1.0000, 1.0000, 1.0001, 1.0000, 0.9999, 1.0000,\n",
       "         1.0000, 1.0000, 1.0000, 1.0001, 1.0000, 1.0001, 1.0000, 1.0000, 1.0000,\n",
       "         1.0000, 1.0001, 0.9998, 1.0002, 1.0000, 1.0000, 1.0000, 1.0000, 1.0000,\n",
       "         0.9999, 0.9999, 1.0001, 1.0001, 1.0000, 0.9999, 1.0001, 0.9999, 1.0001,\n",
       "         1.0001, 0.9999, 0.9999, 0.9999, 1.0000, 1.0001, 0.9999, 0.9999, 1.0001,\n",
       "         1.0001, 1.0000, 0.9999, 1.0000, 1.0001, 1.0000, 1.0000, 1.0000, 1.0000,\n",
       "         1.0001, 0.9999, 1.0000, 0.9999, 1.0000, 1.0000, 1.0000, 1.0001, 1.0001,\n",
       "         1.0000, 1.0000, 1.0000, 1.0000, 0.9999, 0.9999, 1.0000, 1.0000, 1.0000,\n",
       "         1.0000, 0.9999, 1.0000, 1.0000, 0.9999, 1.0000, 1.0001, 1.0000, 1.0000,\n",
       "         1.0000, 1.0000, 1.0000, 0.9999, 1.0000, 1.0000, 1.0000, 1.0001, 1.0001,\n",
       "         1.0000, 1.0000, 1.0001, 0.9999, 1.0001, 1.0001, 1.0000, 1.0001, 0.9999,\n",
       "         1.0000, 1.0000, 1.0000, 1.0000, 1.0000, 1.0001, 1.0001, 1.0000, 1.0000,\n",
       "         1.0001, 1.0001, 1.0000, 1.0001, 1.0000, 1.0000, 1.0001, 1.0000, 0.9999,\n",
       "         1.0000, 1.0000, 0.9998, 1.0000, 0.9999, 1.0000, 1.0000, 1.0001, 0.9999,\n",
       "         1.0000, 0.9999, 1.0000, 1.0000, 1.0001, 0.9999, 0.9999, 1.0000, 0.9999,\n",
       "         0.9999, 1.0000, 1.0000, 1.0000, 0.9999, 0.9999, 1.0000, 0.9999, 1.0002,\n",
       "         1.0001, 0.9999, 1.0000, 1.0000, 1.0000, 1.0001, 0.9999, 1.0000, 1.0000,\n",
       "         0.9999, 1.0000, 1.0000, 1.0000, 1.0001, 1.0001, 1.0000, 1.0000, 1.0000,\n",
       "         1.0000, 0.9999, 1.0001, 1.0000, 0.9999, 1.0000, 1.0000, 1.0000, 0.9998,\n",
       "         0.9999, 0.9999, 0.9999, 1.0000, 1.0000, 1.0000, 0.9999, 0.9999, 1.0000,\n",
       "         0.9999, 1.0000, 1.0000, 1.0001, 1.0000, 1.0000, 0.9999, 1.0000, 1.0000,\n",
       "         1.0001, 1.0001, 1.0000, 1.0000, 1.0000, 1.0000, 1.0000, 1.0000, 1.0001,\n",
       "         1.0000, 0.9999, 0.9999, 0.9999, 0.9999, 0.9999, 0.9999, 1.0001, 1.0001,\n",
       "         1.0000, 0.9999, 1.0000, 1.0000, 0.9998, 0.9999, 1.0000, 1.0001, 1.0000,\n",
       "         1.0000, 1.0000, 1.0001]], device='cuda:0')"
      ]
     },
     "execution_count": 74,
     "metadata": {},
     "output_type": "execute_result"
    }
   ],
   "source": [
    "delta_test_opt"
   ]
  },
  {
   "cell_type": "code",
   "execution_count": 76,
   "metadata": {},
   "outputs": [
    {
     "data": {
      "text/plain": [
       "array([[0.99999994]], dtype=float32)"
      ]
     },
     "execution_count": 76,
     "metadata": {},
     "output_type": "execute_result"
    }
   ],
   "source": [
    "cosine_similarity(delta_test_opt.cpu(), delta_test.cpu())"
   ]
  },
  {
   "cell_type": "code",
   "execution_count": null,
   "metadata": {},
   "outputs": [],
   "source": []
  },
  {
   "cell_type": "markdown",
   "metadata": {},
   "source": [
    "### identifiability analysis"
   ]
  },
  {
   "cell_type": "code",
   "execution_count": 54,
   "metadata": {},
   "outputs": [
    {
     "data": {
      "text/plain": [
       "array([[0.121593]], dtype=float32)"
      ]
     },
     "execution_count": 54,
     "metadata": {},
     "output_type": "execute_result"
    }
   ],
   "source": [
    "# corr between delta_opt found with 1k vs 10k samples\n",
    "cosine_similarity(delta_opt.cpu(), db['delta_opt'].cpu())"
   ]
  },
  {
   "cell_type": "code",
   "execution_count": null,
   "metadata": {},
   "outputs": [],
   "source": [
    "# TODO: run opt multiple times with different samples and seeds \n"
   ]
  },
  {
   "cell_type": "code",
   "execution_count": null,
   "metadata": {},
   "outputs": [],
   "source": []
  },
  {
   "cell_type": "markdown",
   "metadata": {},
   "source": [
    "## cross-model"
   ]
  },
  {
   "cell_type": "code",
   "execution_count": null,
   "metadata": {},
   "outputs": [],
   "source": [
    "# TODO: fine affine transformation with dim reduction\n"
   ]
  },
  {
   "cell_type": "code",
   "execution_count": null,
   "metadata": {},
   "outputs": [],
   "source": []
  },
  {
   "cell_type": "markdown",
   "metadata": {},
   "source": [
    "# gt task rep through linear probing"
   ]
  },
  {
   "cell_type": "code",
   "execution_count": null,
   "metadata": {},
   "outputs": [],
   "source": [
    "def linear_probe(activations, labels):\n",
    "\n",
    "    X = np.array([(np.array([1]) + act.detach().cpu().numpy()).mean(axis=0) for act in activations])\n",
    "    y = np.array(labels)\n",
    "\n",
    "    print(X.shape)\n",
    "    # Split into train and test sets\n",
    "    X_train, X_test, y_train, y_test = train_test_split(X, y, test_size=0.2, random_state=42)\n",
    "\n",
    "    # Initialize and train the linear classifier\n",
    "    clf = LogisticRegression(max_iter=1000)\n",
    "    clf.fit(X_train, y_train)\n",
    "\n",
    "    # Predict on the test set\n",
    "    y_pred = clf.predict(X_test)\n",
    "\n",
    "    # Calculate the accuracy\n",
    "    accuracy = accuracy_score(y_test, y_pred)\n",
    "    print(f'Accuracy: {accuracy:.2f}')\n",
    "    return clf"
   ]
  },
  {
   "cell_type": "code",
   "execution_count": null,
   "metadata": {},
   "outputs": [],
   "source": [
    "clf = linear_probe(gpt2_post['h.11'], labels)"
   ]
  },
  {
   "cell_type": "code",
   "execution_count": null,
   "metadata": {},
   "outputs": [],
   "source": []
  },
  {
   "cell_type": "markdown",
   "metadata": {},
   "source": [
    "# compare inferred task rep against gt"
   ]
  },
  {
   "cell_type": "code",
   "execution_count": null,
   "metadata": {},
   "outputs": [],
   "source": []
  },
  {
   "cell_type": "code",
   "execution_count": null,
   "metadata": {},
   "outputs": [],
   "source": []
  }
 ],
 "metadata": {
  "kernelspec": {
   "display_name": "w2s",
   "language": "python",
   "name": "python3"
  },
  "language_info": {
   "codemirror_mode": {
    "name": "ipython",
    "version": 3
   },
   "file_extension": ".py",
   "mimetype": "text/x-python",
   "name": "python",
   "nbconvert_exporter": "python",
   "pygments_lexer": "ipython3",
   "version": "3.9.19"
  }
 },
 "nbformat": 4,
 "nbformat_minor": 2
}
